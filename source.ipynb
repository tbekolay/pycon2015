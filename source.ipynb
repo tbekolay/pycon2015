{
 "cells": [
  {
   "cell_type": "code",
   "execution_count": 51,
   "metadata": {
    "collapsed": false,
    "slideshow": {
     "slide_type": "skip"
    }
   },
   "outputs": [],
   "source": [
    "%matplotlib inline\n",
    "import matplotlib.pyplot as plt\n",
    "import numpy as np\n",
    "import nengo\n",
    "from nengo.utils.matplotlib import rasterplot\n",
    "import seaborn as sns\n",
    "sns.set_style(\"white\")\n",
    "sns.set_style(\"ticks\")\n",
    "plt.rcParams['figure.figsize'] = (10.0, 5.0)\n",
    "plt.rcParams['lines.linewidth'] = 2\n",
    "def prettify():\n",
    "    sns.despine()\n",
    "    plt.tight_layout()"
   ]
  },
  {
   "cell_type": "markdown",
   "metadata": {
    "slideshow": {
     "slide_type": "slide"
    }
   },
   "source": [
    "# How to build a brain <br> with Python\n",
    "\n",
    "### Trevor Bekolay"
   ]
  },
  {
   "cell_type": "markdown",
   "metadata": {
    "slideshow": {
     "slide_type": "notes"
    }
   },
   "source": [
    "The human brain is an amazing computing device.\n",
    "It weighs about 2 kilograms,\n",
    "is composed of around 86 billion neurons,\n",
    "on the order of a quadrillion connections between neurons,\n",
    "and consumes about 20 watts of power.\n",
    "Yet it's directly responsible for everything\n",
    "humans have accomplished,\n",
    "including creating computers,\n",
    "and Python, which is why we're here today.\n",
    "I'm a theoretical neuroscientist,\n",
    "which means that I build computer\n",
    "simulations of brains.\n",
    "Today, I want to tell you how we use Python\n",
    "to create and run those simulations."
   ]
  },
  {
   "cell_type": "markdown",
   "metadata": {
    "slideshow": {
     "slide_type": "slide"
    }
   },
   "source": [
    "<img src=\"img/feynman.png\" class=\"center\" width=\"80%\">"
   ]
  },
  {
   "cell_type": "markdown",
   "metadata": {
    "slideshow": {
     "slide_type": "fragment"
    }
   },
   "source": [
    "<img src=\"img/astroboy.svg\" class=\"inline\" width=\"30%\">\n",
    "<img src=\"img/hal.svg\" class=\"inline\" width=\"20%\">\n",
    "<img src=\"img/skynet.svg\" class=\"inline\" width=\"20%\">"
   ]
  },
  {
   "cell_type": "markdown",
   "metadata": {
    "slideshow": {
     "slide_type": "notes"
    }
   },
   "source": [
    "It's worth first talking about why we want to model the brain.\n",
    "The first is to understand the brain.\n",
    "The late Richard Feynman wrote this\n",
    "shortly before his passing:\n",
    "\"What I cannot create, I do not understand.\"\n",
    "We think that the best way to understand\n",
    "how the brain works is to try to\n",
    "do what the brain does,\n",
    "under the same types of constraints that\n",
    "the brain works under.\n",
    "\n",
    "The second reason is to leverage\n",
    "this understanding to build better\n",
    "artificial intelligences.\n",
    "There are both optimistic and pessimistic\n",
    "examples of AIs in science fiction.\n",
    "I think what worries most people,\n",
    "and what makes things like Hal and Skynet\n",
    "seem plausible,\n",
    "is that these intelligences are not brain-like;\n",
    "they magically emerged from some research project,\n",
    "and they can't be reasoned with.\n",
    "I hope to convince you that this type of\n",
    "emergent superintelligence is not realistic;\n",
    "we have to engineer intelligence,\n",
    "it won't just happen,\n",
    "and that means we know a lot about it\n",
    "and can reason with it."
   ]
  },
  {
   "cell_type": "markdown",
   "metadata": {
    "slideshow": {
     "slide_type": "slide"
    }
   },
   "source": [
    "<img src=\"img/neuron.png\" class=\"center\">"
   ]
  },
  {
   "cell_type": "code",
   "execution_count": 2,
   "metadata": {
    "collapsed": false,
    "slideshow": {
     "slide_type": "fragment"
    }
   },
   "outputs": [
    {
     "name": "stdout",
     "output_type": "stream",
     "text": [
      "NEURON -- VERSION 7.3 ansi (1078:2b0c984183df) 2014-04-04\n",
      "Duke, Yale, and the BlueBrain Project -- Copyright 1984-2014\n",
      "See http://www.neuron.yale.edu/neuron/credits\n",
      "\n",
      "loading membrane mechanisms from /usr/local/Cellar/neuron/7.3/share/nrn/demo/release/x86_64/.libs/libnrnmech.so\n",
      "Additional mechanisms from files\n",
      " cabpump.mod cachan1.mod camchan.mod capump.mod invlfire.mod khhchan.mod mcna.mod nacaex.mod nachan.mod release.mod\n",
      "oc>"
     ]
    }
   ],
   "source": [
    "!neurondemo"
   ]
  },
  {
   "cell_type": "markdown",
   "metadata": {
    "slideshow": {
     "slide_type": "notes"
    }
   },
   "source": [
    "Let's get right into it.\n",
    "The software that we're going to look\n",
    "at today are called \"neural simulators,\"\n",
    "as they're simulating neural systems like the brain.\n",
    "I want to begin with one of the first neural simulators,\n",
    "which is still actively developed and used today,\n",
    "called NEURON.\n",
    "\n",
    "NEURON was how I was introduced to a lot of\n",
    "the elements of neuroscience,\n",
    "since it does a good job of emulating\n",
    "real biological neurons.\n",
    "Let's start up the demo that comes with NEURON.\n",
    "\n",
    "You can see right off the bat,\n",
    "this is an old program,\n",
    "copyright 1984,\n",
    "which is before I was born.\n",
    "It looks old. But it works;\n",
    "let's start with the Pyramidal demo,\n",
    "which loads up this neuron.\n",
    "Here we can see some of the parts of a neuron.\n",
    "These processes around the outside here\n",
    "are called dendrites, and they are essentially\n",
    "the inputs to the cell;\n",
    "there can be many dendrites for each cell.\n",
    "The body of the cell is called the soma.\n",
    "And then every cell has a single output process\n",
    "called an axon, which also branches out.\n",
    "\n",
    "Right now,\n",
    "NEURON is doing a \"current clamp\" experiment,\n",
    "which mimics actual neuroscientific experiments.\n",
    "There is a simulated electrode, here in the soma\n",
    "at the blue dot.\n",
    "*Show parameters*\n",
    "It's delivering a current pulse\n",
    "of 10 nanoamps for 0.5 milliseconds,\n",
    "with no delay.\n",
    "Let's run this experiment.\n",
    "What's being plotted here is the\n",
    "membrane potential -- the voltage -- at \n",
    "the soma.\n",
    "This quick up and down portion\n",
    "is called an action potential,\n",
    "or a \"spike\",\n",
    "and these spikes are how neurons\n",
    "communicate to each other.\n",
    "\n",
    "We can lower the amplitude of the\n",
    "injected current to 3 nanoamps,\n",
    "and you'll see that we no longer get a spike.\n",
    "We can raise it to 20, and the only difference is that\n",
    "we get a spike earlier.\n",
    "\n",
    "Another thing we can do is change\n",
    "where we're injecting current.\n",
    "If we inject current in this dendride,\n",
    "then even 20 nanoamps is no longer\n",
    "sufficient to cause a spike.\n",
    "Let's close this down."
   ]
  },
  {
   "cell_type": "code",
   "execution_count": 7,
   "metadata": {
    "collapsed": false,
    "slideshow": {
     "slide_type": "slide"
    }
   },
   "outputs": [],
   "source": [
    "import neuron\n",
    "\n",
    "soma = neuron.h.Section()\n",
    "soma.L = 40  # Length in um\n",
    "soma.diam = 20  # Diameter in um\n",
    "soma.insert('hh')\n",
    "\n",
    "dendrite = neuron.h.Section()\n",
    "dendrite.L = 150\n",
    "dendrite.diam = 3\n",
    "dendrite.insert('pas')\n",
    "\n",
    "dendrite.connect(soma, 0, 1)  # connect soma(0) with dendrite(1);"
   ]
  },
  {
   "cell_type": "code",
   "execution_count": 8,
   "metadata": {
    "collapsed": false,
    "slideshow": {
     "slide_type": "fragment"
    }
   },
   "outputs": [],
   "source": [
    "stim = neuron.h.IClamp(soma(0.5))\n",
    "stim.delay = 0\n",
    "stim.amp = 5  # In nA\n",
    "stim.dur = 0.5\n",
    "\n",
    "rec_t = neuron.h.Vector()\n",
    "rec_t.record(neuron.h._ref_t)\n",
    "\n",
    "rec_v = neuron.h.Vector()\n",
    "rec_v.record(soma(0.5)._ref_v);"
   ]
  },
  {
   "cell_type": "code",
   "execution_count": 9,
   "metadata": {
    "collapsed": true,
    "slideshow": {
     "slide_type": "fragment"
    }
   },
   "outputs": [],
   "source": [
    "neuron.h.finitialize(-60)\n",
    "neuron.init()\n",
    "neuron.run(5)"
   ]
  },
  {
   "cell_type": "markdown",
   "metadata": {
    "slideshow": {
     "slide_type": "notes"
    }
   },
   "source": [
    "NEURON has Python bindings, so we can\n",
    "do this with Python instead.\n",
    "I'll do a much simplified model here,\n",
    "just a soma and a single dendrite.\n",
    "Here, we're setting the parameters of the soma and dendrite,\n",
    "the length and diameter,\n",
    "and adding passive dynamics.\n",
    "Then we connect them together.\n",
    "\n",
    "Next, we set up our current clamp experiment,\n",
    "clamping at half the soma length,\n",
    "and injecting 5 nanoamps of current for 0.5 milliseconds.\n",
    "We the set up these vectors to record the time (ref_t)\n",
    "and the voltage at the center of the soma (ref_v).\n",
    "We set the initial voltage of everything to -60 millivolts,\n",
    "and run the simulation for 5 milliseconds."
   ]
  },
  {
   "cell_type": "code",
   "execution_count": 47,
   "metadata": {
    "collapsed": false,
    "slideshow": {
     "slide_type": "slide"
    }
   },
   "outputs": [
    {
     "data": {
      "image/png": "[encoded data removed]",
      "text/plain": [
       "<matplotlib.figure.Figure at 0x116b79c90>"
      ]
     },
     "metadata": {},
     "output_type": "display_data"
    }
   ],
   "source": [
    "import matplotlib.pyplot as plt\n",
    "import numpy as np\n",
    "\n",
    "times = np.array(rec_t)\n",
    "voltages = np.array(rec_v)\n",
    "\n",
    "plt.plot(times, voltages)\n",
    "plt.xlabel(\"Time (ms)\")\n",
    "plt.ylabel(\"Voltage (mV)\")\n",
    "plt.xlim(right=5)\n",
    "prettify()"
   ]
  },
  {
   "cell_type": "markdown",
   "metadata": {
    "slideshow": {
     "slide_type": "notes"
    }
   },
   "source": [
    "We can take the data from NEURON\n",
    "and put them in NumPy arrays,\n",
    "then plot the data with Matplotlib.\n",
    "You can see that our simple one-dendrite cell does spike!\n",
    "\n",
    "The way NEURON makes these simulations\n",
    "is through some built-in equations\n",
    "that define how the neuron\n",
    "responds to current.\n",
    "They're based on the physics\n",
    "of electrical circuits,\n",
    "essentially.\n",
    "There are more and less detailed ways\n",
    "to emulate those physics.\n",
    "It is possible in NEURON to\n",
    "specify those equations,\n",
    "but the syntax is quite arcane."
   ]
  },
  {
   "cell_type": "markdown",
   "metadata": {
    "slideshow": {
     "slide_type": "slide"
    }
   },
   "source": [
    "<img src=\"img/brian.png\" class=\"center\">"
   ]
  },
  {
   "cell_type": "markdown",
   "metadata": {
    "slideshow": {
     "slide_type": "notes"
    }
   },
   "source": [
    "Instead, let's look at\n",
    "another neural simulator called Brian.\n",
    "Unlike NEURON, Brian is\n",
    "implemented entirely in Python.\n",
    "It puts the equations behind each neuron\n",
    "front and center."
   ]
  },
  {
   "cell_type": "code",
   "execution_count": 11,
   "metadata": {
    "collapsed": false,
    "slideshow": {
     "slide_type": "slide"
    }
   },
   "outputs": [],
   "source": [
    "import brian2 as br\n",
    "\n",
    "C = 281 * br.pF\n",
    "gL = 30 * br.nS\n",
    "taum = C / gL\n",
    "reset_v = -70.6 * br.mV\n",
    "VT = -50.4 * br.mV\n",
    "DeltaT = 2 * br.mV\n",
    "Vcut = VT + 5 * DeltaT\n",
    "tauw = 144*br.ms\n",
    "a = 4*br.nS\n",
    "b = 0.0805*br.nA\n",
    "Vr = -70.6*br.mV\n",
    "\n",
    "eqs = \"\"\"\n",
    "dvm/dt = (gL*(reset_v - vm) + gL*DeltaT*exp((vm - VT)/DeltaT) + I - w)/C : volt\n",
    "dw/dt = (a*(vm - reset_v) - w)/tauw : amp\n",
    "I : amp\n",
    "\"\"\""
   ]
  },
  {
   "cell_type": "code",
   "execution_count": 12,
   "metadata": {
    "collapsed": true,
    "slideshow": {
     "slide_type": "fragment"
    }
   },
   "outputs": [],
   "source": [
    "neuron = br.NeuronGroup(1, model=eqs, threshold='vm>Vcut', reset=\"vm=Vr; w+=b\")\n",
    "neuron.vm = reset_v\n",
    "voltage = br.StateMonitor(neuron, 'vm', record=0)\n",
    "spikes = br.SpikeMonitor(neuron)\n",
    "\n",
    "neuron.I = 1*br.nA\n",
    "br.run(100 * br.ms)"
   ]
  },
  {
   "cell_type": "markdown",
   "metadata": {
    "slideshow": {
     "slide_type": "notes"
    }
   },
   "source": [
    "The code is somewhat harder to read,\n",
    "but it's more flexible than NEURON,\n",
    "and allows us to write a simplified\n",
    "neuron model in a few lines of code.\n",
    "It also explicitly tracks units,\n",
    "which is important for validation.\n",
    "This snippet of code sets a bunch of parameters,\n",
    "then defines a set of differential equations\n",
    "using those parameters.\n",
    "We have an equation for how the membrane voltage changes,\n",
    "and how a recovery variable w changes.\n",
    "I is our input current, in amps.\n",
    "\n",
    "We create a single neuron,\n",
    "set its initial voltage,\n",
    "and record the voltage trace and when it spikes.\n",
    "We give it 1 nanoamp of current,\n",
    "and run it for 100 milliseconds."
   ]
  },
  {
   "cell_type": "code",
   "execution_count": 13,
   "metadata": {
    "collapsed": false,
    "slideshow": {
     "slide_type": "skip"
    }
   },
   "outputs": [],
   "source": [
    "vm = voltage[0].vm[:]\n",
    "for t in spikes.t:\n",
    "    i = int(t / br.defaultclock.dt)\n",
    "    vm[i] = 20*br.mV"
   ]
  },
  {
   "cell_type": "code",
   "execution_count": 14,
   "metadata": {
    "collapsed": false,
    "slideshow": {
     "slide_type": "slide"
    }
   },
   "outputs": [
    {
     "data": {
      "image/png": "[encoded data removed]",
      "text/plain": [
       "<matplotlib.figure.Figure at 0x10c115f50>"
      ]
     },
     "metadata": {},
     "output_type": "display_data"
    }
   ],
   "source": [
    "plt.plot(voltage.t / br.ms, vm / br.mV)\n",
    "plt.xlabel('Time (ms)')\n",
    "plt.ylabel('Voltage (mV)')\n",
    "prettify()"
   ]
  },
  {
   "cell_type": "markdown",
   "metadata": {
    "slideshow": {
     "slide_type": "notes"
    }
   },
   "source": [
    "Here's what the voltage trace looks like when we plot it."
   ]
  },
  {
   "cell_type": "markdown",
   "metadata": {
    "slideshow": {
     "slide_type": "slide"
    }
   },
   "source": [
    "- [NEST (NEural Simulation Tool)](http://www.nest-initiative.org/index.php/PyNEST)\n",
    "- [MOOSE (Multiscale Object-Oriented Simulation Environment)](http://journal.frontiersin.org/article/10.3389/neuro.11.006.2008/abstract)\n",
    "- [GENESIS (GEneral NEural SImulation System)](http://genesis-sim.org/userdocs/tutorial-python-scripting/tutorial-python-scripting.html)\n",
    "- [NEVESIM (Neural EVEnt-based SIMulator)](http://journal.frontiersin.org/article/10.3389/fninf.2014.00070/abstract)\n",
    "- [PCSIM (Parallel neural Circuit SIMulator)](http://www.lsm.tugraz.at/pcsim/)\n",
    "- [Brainlab](http://journal.frontiersin.org/article/10.3389/neuro.11.016.2009/abstract)\n",
    "- [Topographica](http://journal.frontiersin.org/article/10.3389/neuro.11.008.2009/abstract)\n",
    "- [PyNN](http://neuralensemble.org/PyNN/)\n",
    "- ..."
   ]
  },
  {
   "cell_type": "markdown",
   "metadata": {
    "slideshow": {
     "slide_type": "notes"
    }
   },
   "source": [
    "NEURON and Brian aren't the only neural simulators\n",
    "that work in Python; here are 8 more projects\n",
    "that simulate biologically realistic neurons.\n",
    "Some of them can simulate many of them,\n",
    "in fact, and they are all impressive tools in their own right.\n",
    "But to me they're not very satisfying.\n",
    "This talk is about how to build *brain*,\n",
    "but these tools are focused on building *neurons*.\n",
    "\n",
    "Let me do a quick poll of the audience,\n",
    "just a show of hands.\n",
    "Hands up if you think that\n",
    "human-like intelligence will emerge\n",
    "if we create 86 billion neurons\n",
    "like we've done in NEURON or Brian?\n",
    "Okay, hands down.\n",
    "Now, hands up if you think\n",
    "human-like intelligence will emerge\n",
    "if we connect the neurons together\n",
    "according to the statistics of\n",
    "the human brain; so, lots of local\n",
    "connections, and a few far-ranging connections?\n",
    "\n",
    "I agree, it doesn't seem very plausible.\n",
    "In a way, what the neurons do is not that important;\n",
    "what's important is how they're connected."
   ]
  },
  {
   "cell_type": "markdown",
   "metadata": {
    "slideshow": {
     "slide_type": "slide"
    }
   },
   "source": [
    "<img src=\"img/nengo.png\" class=\"inline\" width=\"40%\">\n",
    "$\\quad$\n",
    "<img src=\"img/nef.png\" class=\"inline\" width=\"40%\">"
   ]
  },
  {
   "cell_type": "markdown",
   "metadata": {
    "slideshow": {
     "slide_type": "notes"
    }
   },
   "source": [
    "Nengo is a neural simulator that focuses on\n",
    "connects groups of neurons together\n",
    "using a theoretical framework called\n",
    "the Neural Engineering Framework,\n",
    "or NEF for short.\n",
    "We don't have time to go over all of the NEF,\n",
    "I mostly want to show you a Nengo example,\n",
    "but I want to give you some sense of it\n",
    "with two useful analogies."
   ]
  },
  {
   "cell_type": "markdown",
   "metadata": {
    "slideshow": {
     "slide_type": "slide"
    }
   },
   "source": [
    "# Nengo is a *neural compiler*\n",
    "\n",
    "<div class=\"fragment fade-out\" data-fragment-index=\"1\">\n",
    "\n",
    "<code><pre>\n",
    "int x = 3;\n",
    "int y = x * x;\n",
    "printf(\"%d squared is %d\", x, y);\n",
    "</pre></code>\n",
    "\n",
    "$$\\quad$$\n",
    "    \n",
    "$$\\Downarrow$$\n",
    "\n",
    "$$\\quad$$\n",
    "\n",
    "<code><pre>\n",
    "...\n",
    "\tsubq\t$16, %rsp\n",
    "\tleaq\tL_.str(%rip), %rdi\n",
    "\tmovl\t$3, -4(%rbp)\n",
    "\tmovl\t-4(%rbp), %eax\n",
    "\timull\t-4(%rbp), %eax\n",
    "\tmovl\t%eax, -8(%rbp)\n",
    "\tmovl\t-4(%rbp), %esi\n",
    "\tmovl\t-8(%rbp), %edx\n",
    "\tmovb\t$0, %al\n",
    "\tcallq\t_printf\n",
    "\tmovl\t$0, %edx\n",
    "\tmovl\t%eax, -12(%rbp)\n",
    "...\n",
    "</pre></code>\n",
    "\n",
    "</div>\n",
    "\n",
    "<div class=\"fragment fade-in\" data-fragment-index=\"1\" style=\"position:relative; top:-440px;\">\n",
    "\n",
    "<code><pre>\n",
    "val = Node(output=0.3)\n",
    "x = Ensemble(n_neurons=40, dimensions=1)\n",
    "squared = Ensemble(n_neurons=40, dimensions=1)\n",
    "Connection(val, x)\n",
    "Connection(x, squared, function=lambda x: x * x)\n",
    "</pre></code>\n",
    "    \n",
    "$$\\quad$$\n",
    "    \n",
    "$$\\Downarrow$$\n",
    "\n",
    "$$\\quad$$\n",
    "\n",
    "<img src=\"img/network.svg\" class=\"center\" width=\"60%\">\n",
    "\n",
    "</div>"
   ]
  },
  {
   "cell_type": "markdown",
   "metadata": {
    "slideshow": {
     "slide_type": "notes"
    }
   },
   "source": [
    "The first analogy is that Nengo is a neural compiler.\n",
    "\n",
    "In computing, compilers allow us to write\n",
    "programs in an understandable high-level language,\n",
    "to be later compiled into machine code,\n",
    "which is specific to your hardware.\n",
    "Think about what the state of computing would be now\n",
    "if we still had to program by typing in machine code.\n",
    "\n",
    "Similarly, Nengo allows us to define\n",
    "models in terms of what information is represented,\n",
    "and how it's transformed.\n",
    "Nodes are representations that is not neural,\n",
    "so they're analogous to the current we injected earlier,\n",
    "and Ensembles are populations of neurons\n",
    "that collectively represent information.\n",
    "When we connect a node to an ensemble,\n",
    "we're determining the current that should be\n",
    "injected into each cell such that\n",
    "it represents the high-level value.\n",
    "When we connect two ensembles together,\n",
    "we're determining all of the connection weights\n",
    "between the two populations such that\n",
    "the second population represents\n",
    "the value represented in the first population,\n",
    "fed to this function.\n",
    "\n",
    "Nengo gives us a level of abstraction,\n",
    "like compilers do in computing.\n",
    "Instead of having to determine\n",
    "what currents should be injected in these cells,\n",
    "and what weights should be used\n",
    "to connect all of these neurons,\n",
    "we instead say what information\n",
    "should be represented, and how\n",
    "those representations should be transformed."
   ]
  },
  {
   "cell_type": "code",
   "execution_count": 64,
   "metadata": {
    "collapsed": false,
    "slideshow": {
     "slide_type": "slide"
    }
   },
   "outputs": [],
   "source": [
    "import nengo\n",
    "\n",
    "with nengo.Network(seed=1) as net:\n",
    "    val = nengo.Node(output=0.3)\n",
    "    x = nengo.Ensemble(40, dimensions=1)\n",
    "    squared = nengo.Ensemble(40, dimensions=1)\n",
    "    nengo.Connection(val, x)\n",
    "    nengo.Connection(x, squared, function=lambda x: x * x)\n",
    "    \n",
    "    x_probe = nengo.Probe(x, synapse=0.03)\n",
    "    sq_probe = nengo.Probe(squared, synapse=0.03)"
   ]
  },
  {
   "cell_type": "code",
   "execution_count": 65,
   "metadata": {
    "collapsed": false,
    "slideshow": {
     "slide_type": "fragment"
    }
   },
   "outputs": [
    {
     "name": "stdout",
     "output_type": "stream",
     "text": [
      "\r",
      "Simulation finished in 0:00:01.                                                 \n"
     ]
    }
   ],
   "source": [
    "sim = nengo.Simulator(net)\n",
    "sim.run(1.0)"
   ]
  },
  {
   "cell_type": "code",
   "execution_count": 66,
   "metadata": {
    "collapsed": false,
    "slideshow": {
     "slide_type": "slide"
    }
   },
   "outputs": [
    {
     "data": {
      "image/png": "[encoded data removed]",
      "text/plain": [
       "<matplotlib.figure.Figure at 0x10c07f2d0>"
      ]
     },
     "metadata": {},
     "output_type": "display_data"
    }
   ],
   "source": [
    "plt.plot(sim.trange(), sim.data[x_probe])\n",
    "plt.plot(sim.trange(), sim.data[sq_probe])\n",
    "plt.xlabel(\"Time (s)\")\n",
    "prettify()"
   ]
  },
  {
   "cell_type": "code",
   "execution_count": 67,
   "metadata": {
    "collapsed": true,
    "slideshow": {
     "slide_type": "slide"
    }
   },
   "outputs": [],
   "source": [
    "val.output = lambda t: np.sin(t * 2 * np.pi)"
   ]
  },
  {
   "cell_type": "code",
   "execution_count": 68,
   "metadata": {
    "collapsed": false,
    "slideshow": {
     "slide_type": "fragment"
    }
   },
   "outputs": [
    {
     "name": "stdout",
     "output_type": "stream",
     "text": [
      "\r",
      "Simulation finished in 0:00:01.                                                 \n"
     ]
    },
    {
     "data": {
      "image/png": "[encoded data removed]",
      "text/plain": [
       "<matplotlib.figure.Figure at 0x10dd7ffd0>"
      ]
     },
     "metadata": {},
     "output_type": "display_data"
    }
   ],
   "source": [
    "sim = nengo.Simulator(net)\n",
    "sim.run(1.0)\n",
    "plt.plot(sim.trange(), sim.data[x_probe])\n",
    "plt.plot(sim.trange(), sim.data[sq_probe])\n",
    "plt.xlabel(\"Time (s)\")\n",
    "prettify()"
   ]
  },
  {
   "cell_type": "code",
   "execution_count": 69,
   "metadata": {
    "collapsed": true,
    "slideshow": {
     "slide_type": "slide"
    }
   },
   "outputs": [],
   "source": [
    "with net:\n",
    "    v_pr = nengo.Probe(x.neurons[0], 'voltage')\n",
    "    sp_pr = nengo.Probe(x.neurons, 'spikes')"
   ]
  },
  {
   "cell_type": "code",
   "execution_count": 72,
   "metadata": {
    "collapsed": false,
    "slideshow": {
     "slide_type": "fragment"
    }
   },
   "outputs": [
    {
     "name": "stdout",
     "output_type": "stream",
     "text": [
      "\r",
      "Simulation finished in 0:00:01.                                                 \n"
     ]
    },
    {
     "data": {
      "image/png": "[encoded data removed]",
      "text/plain": [
       "<matplotlib.figure.Figure at 0x10dfb0750>"
      ]
     },
     "metadata": {},
     "output_type": "display_data"
    }
   ],
   "source": [
    "sim = nengo.Simulator(net)\n",
    "sim.run(1.0)\n",
    "plt.plot(sim.trange(), sim.data[v_pr])\n",
    "plt.ylabel(\"Voltage (arbitrary units)\")\n",
    "plt.xlabel(\"Time (s)\")\n",
    "prettify()"
   ]
  },
  {
   "cell_type": "code",
   "execution_count": 73,
   "metadata": {
    "collapsed": false,
    "slideshow": {
     "slide_type": "slide"
    }
   },
   "outputs": [
    {
     "data": {
      "image/png": "[encoded data removed]",
      "text/plain": [
       "<matplotlib.figure.Figure at 0x10dfd7210>"
      ]
     },
     "metadata": {},
     "output_type": "display_data"
    }
   ],
   "source": [
    "rasterplot(sim.trange(), sim.data[sp_pr])\n",
    "plt.ylabel(\"Neuron\")\n",
    "plt.xlabel(\"Time (s)\")\n",
    "prettify()"
   ]
  },
  {
   "cell_type": "markdown",
   "metadata": {
    "slideshow": {
     "slide_type": "notes"
    }
   },
   "source": [
    "Let's actually run this example.\n",
    "The code is as you saw it before;\n",
    "the Network object is just a way\n",
    "of organizing models.\n",
    "So we create the node and both ensembles\n",
    "in this network,\n",
    "then connect them together.\n",
    "To get data from them, we add probes.\n",
    "To run them, we create a simulator object,\n",
    "and pass in the network.\n",
    "Then after we run it, the data is available\n",
    "in a dictionary, `sim.data`,\n",
    "and we can plot it.\n",
    "\n",
    "One big difference between this type of computing\n",
    "and traditional computing\n",
    "is that it's very dynamic;\n",
    "it's unusual to represent an unchanging value.\n",
    "So let's change this from representing\n",
    "a number, to representing a sine wave.\n",
    "*run*\n",
    "\n",
    "These plots don't look like what we've plotted before,\n",
    "so let me just prove that we are implementing\n",
    "this math with neurons.\n",
    "We can probe the voltages of a single neuron,\n",
    "and the spikes from all of the neurons.\n",
    "*run*"
   ]
  },
  {
   "cell_type": "markdown",
   "metadata": {
    "slideshow": {
     "slide_type": "slide"
    }
   },
   "source": [
    "# Neural code $\\approx$ binary code\n",
    "\n",
    "<div class=\"fragment fade-out\" data-fragment-index=\"1\">\n",
    "\n",
    "$$x = 13$$\n",
    "\n",
    "$$a = 1101$$\n",
    "\n",
    "$$d = 2^3 2^2 2^1 2^0$$\n",
    "\n",
    "$$\\hat{x} = 1 \\times 8 + 1 \\times 4 + 0 \\times 2 + 1 \\times 1 = 13$$\n",
    "\n",
    "</div>\n",
    "\n",
    "<div class=\"fragment fade-in\" data-fragment-index=\"1\" style=\"position:relative; top:-90px;\">\n",
    "\n",
    "$$x = 0.3$$\n",
    "\n",
    "$$a = 23 Hz, 60 Hz, 3 Hz, ...$$\n",
    "\n",
    "$$d = d_0, d_1, d_2, ...$$\n",
    "\n",
    "$$\\hat{x} = 23 \\times d_0 + 60 \\times d_1 + 3 \\times d_2 + ... \\approx 0.3$$\n",
    "\n",
    "</div>"
   ]
  },
  {
   "cell_type": "markdown",
   "metadata": {
    "slideshow": {
     "slide_type": "notes"
    }
   },
   "source": [
    "So now that we've seen Nengo run a bit,\n",
    "the natural question is how does it work?\n",
    "That brings me to the second analogy,\n",
    "that the neural code is similar to binary code.\n",
    "\n",
    "As most of us here know,\n",
    "binary is essentially how computers\n",
    "represent information.\n",
    "Let's say we want to represent the value 13.\n",
    "We can encode this as the binary number 1101.\n",
    "We can decode this back to decimal\n",
    "by essentially weighting each of these digits\n",
    "with the power of two they encode.\n",
    "\n",
    "In the NEF,\n",
    "we consider the neural code to be very similar.\n",
    "You can think of each bit in the binary case\n",
    "as a neuron. In the binary case,\n",
    "each bit encodes a single value,\n",
    "and it's either true or false.\n",
    "In the neural case,\n",
    "each neuron also encodes a value,\n",
    "but it's not just true or false;\n",
    "the relatively amount of neural activity tells\n",
    "us some information about that particular value.\n",
    "Then decoding is essentially the same;\n",
    "we weight the neural activity by certain weights\n",
    "to recover the originally encoded value.\n",
    "\n",
    "Let's visualize this another way.\n",
    "First, binary coding.\n",
    "On the x-axis, we have the possible encoded values.\n",
    "On the y-axis, the 'activity' of each bit.\n",
    "So, the most obvious is bit 0,\n",
    "which alternates for each encoded value.\n",
    "If you think about each encoded value,\n",
    "we can recover it by\n",
    "weighting the values and summing them.\n",
    "*e.g.*\n",
    "Now, neural coding.\n",
    "On the x-axis, we again have the possible encoded values.\n",
    "On the y-axis, the 'activity' of each neuron,\n",
    "measured in the firing rate.\n",
    "If we look at a value,\n",
    "say 0.5,\n",
    "we have a particular profile of activity\n",
    "that is indicative of the value 0.5.\n",
    "We figure out a single set of weights\n",
    "so that, no matter what value we're trying to decode,\n",
    "doing this weighted sum always gives us back\n",
    "the encoded value."
   ]
  },
  {
   "cell_type": "markdown",
   "metadata": {
    "slideshow": {
     "slide_type": "slide"
    }
   },
   "source": [
    "<div class=\"fragment\">\n",
    "  <video preload=\"auto\">\n",
    "    <source src=\"img/spaun.mp4\" type=\"video/mp4\">\n",
    "    Your browser does not support the video tag.\n",
    "  </video>\n",
    "</div>\n",
    "\n",
    "<div class=\"fragment\" style=\"text-align:center;\">\n",
    "  <a href=\"http://nengo.ca/build-a-brain/spaunvideos\">Spaun videos</a>\n",
    "  $\\quad\\cdot\\quad$\n",
    "  <a href=\"http://www.amazon.com/How-Build-Brain-Architecture-Architectures/dp/0199794545/\">\n",
    "    <img src=\"img/htbab.jpg\" class=\"inline\" width=\"100\">\n",
    "  </a>\n",
    "</div>"
   ]
  },
  {
   "cell_type": "markdown",
   "metadata": {
    "slideshow": {
     "slide_type": "notes"
    }
   },
   "source": [
    "Okay. Those were dense slides.\n",
    "There's a lot more to Nengo and the NEF,\n",
    "but those two analogies --\n",
    "that it's a neural compiler\n",
    "that represents information\n",
    "analogously to binary coding --\n",
    "are really the fundamentals.\n",
    "These two ideas, plus a few more ideas,\n",
    "plus a decade or so of research,\n",
    "has led to models of working memory,\n",
    "motor control, vision,\n",
    "all respecting the constraints of biology\n",
    "but actually working.\n",
    "We put all of these models together\n",
    "into a huge model called Spaun,\n",
    "which I unfortunately don't have time to talk about,\n",
    "but please check out some videos here,\n",
    "and if you want to know more about how it was made,\n",
    "check out my supervisor's most recent book,\n",
    "How to Build a Brain."
   ]
  },
  {
   "cell_type": "code",
   "execution_count": 6,
   "metadata": {
    "collapsed": false,
    "slideshow": {
     "slide_type": "slide"
    }
   },
   "outputs": [
    {
     "name": "stdout",
     "output_type": "stream",
     "text": [
      "Overwriting oscillator.py\n"
     ]
    }
   ],
   "source": [
    "%%writefile oscillator.py\n",
    "\n",
    "import nengo\n",
    "import numpy as np\n",
    "\n",
    "model = nengo.Network('Oscillator', seed=1)\n",
    "\n",
    "tau = 0.01\n",
    "r = 4\n",
    "\n",
    "def feedback(x):    \n",
    "    return [-tau*r*x[1]+x[0], tau*r*x[0]+x[1]]\n",
    "\n",
    "def osc_shape(x):\n",
    "    theta = np.arctan2(x[1], x[0])\n",
    "    r = 2 - 2 * np.sin(theta) + np.sin(theta)*np.sqrt(np.abs(np.cos(theta)))/(np.sin(theta)+1.4)\n",
    "    return -r*np.cos(theta), r*np.sin(theta)\n",
    "\n",
    "with model:\n",
    "    stim = nengo.Node(lambda t: [.5,.5] if t<.02 else [0,0])    \n",
    "    oscillator = nengo.Ensemble(1000, dimensions=2)\n",
    "    shape = nengo.Ensemble(100, dimensions=2, radius=4)\n",
    "    \n",
    "    nengo.Connection(stim, oscillator)\n",
    "    nengo.Connection(oscillator, oscillator, function=feedback, synapse=tau)\n",
    "    nengo.Connection(oscillator, shape, function=osc_shape, synapse=tau)"
   ]
  },
  {
   "cell_type": "code",
   "execution_count": 7,
   "metadata": {
    "collapsed": false,
    "slideshow": {
     "slide_type": "slide"
    }
   },
   "outputs": [
    {
     "name": "stdout",
     "output_type": "stream",
     "text": [
      "{'mask': 1, 'datalen': 2, 'opcode': 8, 'rsv': 0, 'fin': 1}\n",
      "{'mask': 1, 'datalen': 2, 'opcode': 8, 'rsv': 0, 'fin': 1}\n",
      "{'mask': 1, 'datalen': 2, 'opcode': 8, 'rsv': 0, 'fin': 1}\n",
      "{'mask': 1, 'datalen': 2, 'opcode': 8, 'rsv': 0, 'fin': 1}\n",
      "{'mask': 1, 'datalen': 2, 'opcode': 8, 'rsv': 0, 'fin': 1}\n",
      "{'mask': 1, 'datalen': 2, 'opcode': 8, 'rsv': 0, 'fin': 1}\n",
      "{'mask': 1, 'datalen': 2, 'opcode': 8, 'rsv': 0, 'fin': 1}\n",
      "{'mask': 1, 'datalen': 2, 'opcode': 8, 'rsv': 0, 'fin': 1}\n",
      "{'mask': 1, 'datalen': 2, 'opcode': 8, 'rsv': 0, 'fin': 1}\n",
      "{'mask': 1, 'datalen': 2, 'opcode': 8, 'rsv': 0, 'fin': 1}\n",
      "{'mask': 1, 'datalen': 2, 'opcode': 8, 'rsv': 0, 'fin': 1}\n",
      "{'mask': 1, 'datalen': 2, 'opcode': 8, 'rsv': 0, 'fin': 1}\n"
     ]
    },
    {
     "name": "stderr",
     "output_type": "stream",
     "text": [
      "127.0.0.1 - - [06/Apr/2015 23:34:46] \"GET / HTTP/1.1\" 200 -\n",
      "127.0.0.1 - - [06/Apr/2015 23:34:46] \"GET /static/viz_pointer.css HTTP/1.1\" 200 -\n",
      "127.0.0.1 - - [06/Apr/2015 23:34:46] \"GET /static/viz_slider.css HTTP/1.1\" 200 -\n",
      "127.0.0.1 - - [06/Apr/2015 23:34:46] \"GET /static/viz_raster.css HTTP/1.1\" 200 -\n",
      "127.0.0.1 - - [06/Apr/2015 23:34:46] \"GET /static/viz_value.css HTTP/1.1\" 200 -\n",
      "127.0.0.1 - - [06/Apr/2015 23:34:46] \"GET /static/main.css HTTP/1.1\" 200 -\n",
      "127.0.0.1 - - [06/Apr/2015 23:34:46] \"GET /static/viz.css HTTP/1.1\" 200 -\n",
      "127.0.0.1 - - [06/Apr/2015 23:34:46] \"GET /static/viz_sim_control.css HTTP/1.1\" 200 -\n",
      "127.0.0.1 - - [06/Apr/2015 23:34:46] \"GET /static//lib/css/bootstrap.min.css HTTP/1.1\" 200 -\n",
      "127.0.0.1 - - [06/Apr/2015 23:34:46] \"GET /static/viz_netgraph.css HTTP/1.1\" 200 -\n",
      "127.0.0.1 - - [06/Apr/2015 23:34:46] \"GET /static/lib/js/jquery-2.1.3.min.js HTTP/1.1\" 200 -\n",
      "127.0.0.1 - - [06/Apr/2015 23:34:46] \"GET /static/lib/js/interact-1.2.4.js HTTP/1.1\" 200 -\n",
      "127.0.0.1 - - [06/Apr/2015 23:34:46] \"GET /static/lib/js/d3.v3.min.js HTTP/1.1\" 200 -\n",
      "127.0.0.1 - - [06/Apr/2015 23:34:46] \"GET /static/lib/js/bootstrap.min.js HTTP/1.1\" 200 -\n",
      "127.0.0.1 - - [06/Apr/2015 23:34:46] \"GET /static/viz_pan.js HTTP/1.1\" 200 -\n",
      "127.0.0.1 - - [06/Apr/2015 23:34:46] \"GET /static/viz_window.js HTTP/1.1\" 200 -\n",
      "127.0.0.1 - - [06/Apr/2015 23:34:46] \"GET /static/viz.js HTTP/1.1\" 200 -\n",
      "127.0.0.1 - - [06/Apr/2015 23:34:46] \"GET /static/viz_value.js HTTP/1.1\" 200 -\n",
      "127.0.0.1 - - [06/Apr/2015 23:34:46] \"GET /static/viz_xyvalue.js HTTP/1.1\" 200 -\n",
      "127.0.0.1 - - [06/Apr/2015 23:34:46] \"GET /static/viz_raster.js HTTP/1.1\" 200 -\n",
      "127.0.0.1 - - [06/Apr/2015 23:34:46] \"GET /static/viz_slider.js HTTP/1.1\" 200 -\n",
      "127.0.0.1 - - [06/Apr/2015 23:34:46] \"GET /static/viz_netgraph.js HTTP/1.1\" 200 -\n",
      "127.0.0.1 - - [06/Apr/2015 23:34:46] \"GET /static/viz_scale.js HTTP/1.1\" 200 -\n",
      "127.0.0.1 - - [06/Apr/2015 23:34:46] \"GET /static/viz_pointer.js HTTP/1.1\" 200 -\n",
      "127.0.0.1 - - [06/Apr/2015 23:34:46] \"GET /static/viz_sim_control.js HTTP/1.1\" 200 -\n",
      "127.0.0.1 - - [06/Apr/2015 23:34:46] \"GET /static/viz_netgraph_conn.js HTTP/1.1\" 200 -\n",
      "127.0.0.1 - - [06/Apr/2015 23:34:46] \"GET /static/viz_netgraph_item.js HTTP/1.1\" 200 -\n",
      "127.0.0.1 - - [06/Apr/2015 23:34:46] \"GET /static/viz_menu.js HTTP/1.1\" 200 -\n",
      "127.0.0.1 - - [06/Apr/2015 23:34:46] \"GET /static//lib/fonts/glyphicons-halflings-regular.woff2 HTTP/1.1\" 200 -\n",
      "127.0.0.1 - - [06/Apr/2015 23:38:27] \"GET / HTTP/1.1\" 200 -\n",
      "127.0.0.1 - - [06/Apr/2015 23:38:27] \"GET /static/viz.css HTTP/1.1\" 200 -\n",
      "127.0.0.1 - - [06/Apr/2015 23:38:27] \"GET /static/main.css HTTP/1.1\" 200 -\n",
      "127.0.0.1 - - [06/Apr/2015 23:38:27] \"GET /static/viz_slider.css HTTP/1.1\" 200 -\n",
      "127.0.0.1 - - [06/Apr/2015 23:38:27] \"GET /static/viz_value.css HTTP/1.1\" 200 -\n",
      "127.0.0.1 - - [06/Apr/2015 23:38:27] \"GET /static/viz_sim_control.css HTTP/1.1\" 200 -\n",
      "127.0.0.1 - - [06/Apr/2015 23:38:27] \"GET /static/viz_pointer.css HTTP/1.1\" 200 -\n",
      "127.0.0.1 - - [06/Apr/2015 23:38:27] \"GET /static/viz_raster.css HTTP/1.1\" 200 -\n",
      "127.0.0.1 - - [06/Apr/2015 23:38:27] \"GET /static/viz_netgraph.css HTTP/1.1\" 200 -\n",
      "127.0.0.1 - - [06/Apr/2015 23:38:27] \"GET /static/lib/js/interact-1.2.4.js HTTP/1.1\" 200 -\n",
      "127.0.0.1 - - [06/Apr/2015 23:38:27] \"GET /static/lib/js/d3.v3.min.js HTTP/1.1\" 200 -\n",
      "127.0.0.1 - - [06/Apr/2015 23:38:27] \"GET /static//lib/css/bootstrap.min.css HTTP/1.1\" 200 -\n",
      "127.0.0.1 - - [06/Apr/2015 23:38:27] \"GET /static/lib/js/jquery-2.1.3.min.js HTTP/1.1\" 200 -\n",
      "127.0.0.1 - - [06/Apr/2015 23:38:27] \"GET /static/lib/js/bootstrap.min.js HTTP/1.1\" 200 -\n",
      "127.0.0.1 - - [06/Apr/2015 23:38:27] \"GET /static/viz.js HTTP/1.1\" 200 -\n",
      "127.0.0.1 - - [06/Apr/2015 23:38:27] \"GET /static/viz_pan.js HTTP/1.1\" 200 -\n",
      "127.0.0.1 - - [06/Apr/2015 23:38:27] \"GET /static/viz_xyvalue.js HTTP/1.1\" 200 -\n",
      "127.0.0.1 - - [06/Apr/2015 23:38:27] \"GET /static/viz_value.js HTTP/1.1\" 200 -\n",
      "127.0.0.1 - - [06/Apr/2015 23:38:27] \"GET /static/viz_window.js HTTP/1.1\" 200 -\n",
      "127.0.0.1 - - [06/Apr/2015 23:38:27] \"GET /static/viz_slider.js HTTP/1.1\" 200 -\n",
      "127.0.0.1 - - [06/Apr/2015 23:38:27] \"GET /static/viz_raster.js HTTP/1.1\" 200 -\n",
      "127.0.0.1 - - [06/Apr/2015 23:38:27] \"GET /static/viz_netgraph.js HTTP/1.1\" 200 -\n",
      "127.0.0.1 - - [06/Apr/2015 23:38:27] \"GET /static/viz_sim_control.js HTTP/1.1\" 200 -\n",
      "127.0.0.1 - - [06/Apr/2015 23:38:27] \"GET /static/viz_scale.js HTTP/1.1\" 200 -\n",
      "127.0.0.1 - - [06/Apr/2015 23:38:27] \"GET /static/viz_netgraph_conn.js HTTP/1.1\" 200 -\n",
      "127.0.0.1 - - [06/Apr/2015 23:38:27] \"GET /static/viz_netgraph_item.js HTTP/1.1\" 200 -\n",
      "127.0.0.1 - - [06/Apr/2015 23:38:27] \"GET /static/viz_menu.js HTTP/1.1\" 200 -\n",
      "127.0.0.1 - - [06/Apr/2015 23:38:27] \"GET /static/viz_pointer.js HTTP/1.1\" 200 -\n",
      "127.0.0.1 - - [06/Apr/2015 23:38:28] \"GET /static//lib/fonts/glyphicons-halflings-regular.woff2 HTTP/1.1\" 200 -\n",
      "Traceback (most recent call last):\n",
      "  File \"/Users/Trevor/Code/nengo_viz/nengo_viz/swi.py\", line 218, in handle_ws_request\n",
      "    getattr(self, command)(*[client] + args[1:], **db)\n",
      "  File \"/Users/Trevor/Code/nengo_viz/nengo_viz/server.py\", line 49, in ws_viz_component\n",
      "    msg = client.read()\n",
      "  File \"/Users/Trevor/Code/nengo_viz/nengo_viz/swi.py\", line 475, in read\n",
      "    raise Exception(\"Error reading data\")\n",
      "Exception: Error reading data\n",
      "Traceback (most recent call last):\n",
      "  File \"/Users/Trevor/Code/nengo_viz/nengo_viz/swi.py\", line 218, in handle_ws_request\n",
      "    getattr(self, command)(*[client] + args[1:], **db)\n",
      "  File \"/Users/Trevor/Code/nengo_viz/nengo_viz/server.py\", line 49, in ws_viz_component\n",
      "    msg = client.read()\n",
      "  File \"/Users/Trevor/Code/nengo_viz/nengo_viz/swi.py\", line 475, in read\n",
      "    raise Exception(\"Error reading data\")\n",
      "Exception: Error reading data\n",
      "Traceback (most recent call last):\n",
      "  File \"/Users/Trevor/Code/nengo_viz/nengo_viz/swi.py\", line 218, in handle_ws_request\n",
      "    getattr(self, command)(*[client] + args[1:], **db)\n",
      "  File \"/Users/Trevor/Code/nengo_viz/nengo_viz/server.py\", line 49, in ws_viz_component\n",
      "    msg = client.read()\n",
      "  File \"/Users/Trevor/Code/nengo_viz/nengo_viz/swi.py\", line 475, in read\n",
      "    raise Exception(\"Error reading data\")\n",
      "Exception: Error reading data\n",
      "Traceback (most recent call last):\n",
      "  File \"/Users/Trevor/Code/nengo_viz/nengo_viz/swi.py\", line 218, in handle_ws_request\n",
      "    getattr(self, command)(*[client] + args[1:], **db)\n",
      "Traceback (most recent call last):\n",
      "  File \"/Users/Trevor/Code/nengo_viz/nengo_viz/swi.py\", line 218, in handle_ws_request\n",
      "Traceback (most recent call last):\n",
      "Traceback (most recent call last):\n",
      "Traceback (most recent call last):\n",
      "  File \"/Users/Trevor/Code/nengo_viz/nengo_viz/server.py\", line 49, in ws_viz_component\n",
      "  File \"/Users/Trevor/Code/nengo_viz/nengo_viz/swi.py\", line 218, in handle_ws_request\n",
      "  File \"/Users/Trevor/Code/nengo_viz/nengo_viz/swi.py\", line 218, in handle_ws_request\n",
      "  File \"/Users/Trevor/Code/nengo_viz/nengo_viz/swi.py\", line 218, in handle_ws_request\n",
      "    getattr(self, command)(*[client] + args[1:], **db)\n",
      "    getattr(self, command)(*[client] + args[1:], **db)\n",
      "    getattr(self, command)(*[client] + args[1:], **db)\n",
      "    msg = client.read()\n",
      "  File \"/Users/Trevor/Code/nengo_viz/nengo_viz/server.py\", line 49, in ws_viz_component\n",
      "  File \"/Users/Trevor/Code/nengo_viz/nengo_viz/server.py\", line 49, in ws_viz_component\n",
      "  File \"/Users/Trevor/Code/nengo_viz/nengo_viz/server.py\", line 49, in ws_viz_component\n",
      "  File \"/Users/Trevor/Code/nengo_viz/nengo_viz/swi.py\", line 475, in read\n",
      "    getattr(self, command)(*[client] + args[1:], **db)\n",
      "    msg = client.read()\n",
      "    msg = client.read()\n",
      "    raise Exception(\"Error reading data\")\n",
      "  File \"/Users/Trevor/Code/nengo_viz/nengo_viz/server.py\", line 49, in ws_viz_component\n",
      "  File \"/Users/Trevor/Code/nengo_viz/nengo_viz/swi.py\", line 475, in read\n",
      "    msg = client.read()\n",
      "Traceback (most recent call last):\n",
      "Traceback (most recent call last):\n",
      "  File \"/Users/Trevor/Code/nengo_viz/nengo_viz/swi.py\", line 475, in read\n",
      "    raise Exception(\"Error reading data\")\n",
      "Exception: Error reading data\n",
      "Exception: Error reading data\n",
      "    msg = client.read()\n",
      "  File \"/Users/Trevor/Code/nengo_viz/nengo_viz/swi.py\", line 475, in read\n",
      "    raise Exception(\"Error reading data\")\n",
      "Exception: Error reading data\n",
      "    raise Exception(\"Error reading data\")\n",
      "Exception: Error reading data\n",
      "  File \"/Users/Trevor/Code/nengo_viz/nengo_viz/swi.py\", line 475, in read\n",
      "    raise Exception(\"Error reading data\")\n",
      "Exception: Error reading data\n",
      "Traceback (most recent call last):\n",
      "  File \"/Users/Trevor/Code/nengo_viz/nengo_viz/swi.py\", line 218, in handle_ws_request\n",
      "    getattr(self, command)(*[client] + args[1:], **db)\n",
      "  File \"/Users/Trevor/Code/nengo_viz/nengo_viz/server.py\", line 49, in ws_viz_component\n",
      "    msg = client.read()\n",
      "  File \"/Users/Trevor/Code/nengo_viz/nengo_viz/swi.py\", line 475, in read\n",
      "    raise Exception(\"Error reading data\")\n",
      "Exception: Error reading data\n",
      "Traceback (most recent call last):\n",
      "  File \"/Users/Trevor/Code/nengo_viz/nengo_viz/swi.py\", line 218, in handle_ws_request\n",
      "    getattr(self, command)(*[client] + args[1:], **db)\n",
      "  File \"/Users/Trevor/Code/nengo_viz/nengo_viz/server.py\", line 49, in ws_viz_component\n",
      "    msg = client.read()\n",
      "  File \"/Users/Trevor/Code/nengo_viz/nengo_viz/swi.py\", line 218, in handle_ws_request\n",
      "    getattr(self, command)(*[client] + args[1:], **db)\n",
      "  File \"/Users/Trevor/Code/nengo_viz/nengo_viz/server.py\", line 49, in ws_viz_component\n",
      "    msg = client.read()\n",
      "  File \"/Users/Trevor/Code/nengo_viz/nengo_viz/swi.py\", line 475, in read\n",
      "    raise Exception(\"Error reading data\")\n",
      "Exception: Error reading data\n",
      "  File \"/Users/Trevor/Code/nengo_viz/nengo_viz/swi.py\", line 218, in handle_ws_request\n",
      "    getattr(self, command)(*[client] + args[1:], **db)\n",
      "  File \"/Users/Trevor/Code/nengo_viz/nengo_viz/server.py\", line 49, in ws_viz_component\n",
      "    msg = client.read()\n",
      "  File \"/Users/Trevor/Code/nengo_viz/nengo_viz/swi.py\", line 475, in read\n",
      "    raise Exception(\"Error reading data\")\n",
      "Exception: Error reading data\n",
      "  File \"/Users/Trevor/Code/nengo_viz/nengo_viz/swi.py\", line 475, in read\n",
      "    raise Exception(\"Error reading data\")\n",
      "Exception: Error reading data\n"
     ]
    },
    {
     "ename": "KeyboardInterrupt",
     "evalue": "",
     "output_type": "error",
     "traceback": [
      "\u001b[0;31m---------------------------------------------------------------------------\u001b[0m",
      "\u001b[0;31mKeyboardInterrupt\u001b[0m                         Traceback (most recent call last)",
      "\u001b[0;32m<ipython-input-7-78a8f762dd3b>\u001b[0m in \u001b[0;36m<module>\u001b[0;34m()\u001b[0m\n\u001b[1;32m      1\u001b[0m \u001b[0;32mimport\u001b[0m \u001b[0mnengo_viz\u001b[0m\u001b[0;34m\u001b[0m\u001b[0m\n\u001b[0;32m----> 2\u001b[0;31m \u001b[0mnengo_viz\u001b[0m\u001b[0;34m.\u001b[0m\u001b[0mViz\u001b[0m\u001b[0;34m(\u001b[0m\u001b[0;34m'oscillator.py'\u001b[0m\u001b[0;34m)\u001b[0m\u001b[0;34m.\u001b[0m\u001b[0mstart\u001b[0m\u001b[0;34m(\u001b[0m\u001b[0;34m)\u001b[0m\u001b[0;34m\u001b[0m\u001b[0m\n\u001b[0m",
      "\u001b[0;32m/Users/Trevor/Code/nengo_viz/nengo_viz/viz.py\u001b[0m in \u001b[0;36mstart\u001b[0;34m(self, port, browser)\u001b[0m\n\u001b[1;32m    317\u001b[0m         \u001b[0;34m\"\"\"Start the web server\"\"\"\u001b[0m\u001b[0;34m\u001b[0m\u001b[0m\n\u001b[1;32m    318\u001b[0m         \u001b[0mnengo_viz\u001b[0m\u001b[0;34m.\u001b[0m\u001b[0mserver\u001b[0m\u001b[0;34m.\u001b[0m\u001b[0mServer\u001b[0m\u001b[0;34m.\u001b[0m\u001b[0mviz\u001b[0m \u001b[0;34m=\u001b[0m \u001b[0mself\u001b[0m\u001b[0;34m\u001b[0m\u001b[0m\n\u001b[0;32m--> 319\u001b[0;31m         \u001b[0mnengo_viz\u001b[0m\u001b[0;34m.\u001b[0m\u001b[0mserver\u001b[0m\u001b[0;34m.\u001b[0m\u001b[0mServer\u001b[0m\u001b[0;34m.\u001b[0m\u001b[0mstart\u001b[0m\u001b[0;34m(\u001b[0m\u001b[0mport\u001b[0m\u001b[0;34m=\u001b[0m\u001b[0mport\u001b[0m\u001b[0;34m,\u001b[0m \u001b[0mbrowser\u001b[0m\u001b[0;34m=\u001b[0m\u001b[0mbrowser\u001b[0m\u001b[0;34m)\u001b[0m\u001b[0;34m\u001b[0m\u001b[0m\n\u001b[0m\u001b[1;32m    320\u001b[0m \u001b[0;34m\u001b[0m\u001b[0m\n\u001b[1;32m    321\u001b[0m     \u001b[0;32mdef\u001b[0m \u001b[0mcreate_sim\u001b[0m\u001b[0;34m(\u001b[0m\u001b[0mself\u001b[0m\u001b[0;34m)\u001b[0m\u001b[0;34m:\u001b[0m\u001b[0;34m\u001b[0m\u001b[0m\n",
      "\u001b[0;32m/Users/Trevor/Code/nengo_viz/nengo_viz/swi.py\u001b[0m in \u001b[0;36mstart\u001b[0;34m(cls, port, asynch, addr, browser)\u001b[0m\n\u001b[1;32m    368\u001b[0m             \u001b[0mserver\u001b[0m \u001b[0;34m=\u001b[0m \u001b[0mBaseHTTPServer\u001b[0m\u001b[0;34m.\u001b[0m\u001b[0mHTTPServer\u001b[0m\u001b[0;34m(\u001b[0m\u001b[0;34m(\u001b[0m\u001b[0maddr\u001b[0m\u001b[0;34m,\u001b[0m \u001b[0mport\u001b[0m\u001b[0;34m)\u001b[0m\u001b[0;34m,\u001b[0m \u001b[0mcls\u001b[0m\u001b[0;34m)\u001b[0m\u001b[0;34m\u001b[0m\u001b[0m\n\u001b[1;32m    369\u001b[0m         \u001b[0;32mtry\u001b[0m\u001b[0;34m:\u001b[0m\u001b[0;34m\u001b[0m\u001b[0m\n\u001b[0;32m--> 370\u001b[0;31m             \u001b[0mserver\u001b[0m\u001b[0;34m.\u001b[0m\u001b[0mserve_forever\u001b[0m\u001b[0;34m(\u001b[0m\u001b[0;34m)\u001b[0m\u001b[0;34m\u001b[0m\u001b[0m\n\u001b[0m\u001b[1;32m    371\u001b[0m         \u001b[0;32mfinally\u001b[0m\u001b[0;34m:\u001b[0m\u001b[0;34m\u001b[0m\u001b[0m\n\u001b[1;32m    372\u001b[0m             \u001b[0;31m# shut down any remaining threads\u001b[0m\u001b[0;34m\u001b[0m\u001b[0;34m\u001b[0m\u001b[0m\n",
      "\u001b[0;32m/usr/local/Cellar/python/2.7.9/Frameworks/Python.framework/Versions/2.7/lib/python2.7/SocketServer.pyc\u001b[0m in \u001b[0;36mserve_forever\u001b[0;34m(self, poll_interval)\u001b[0m\n\u001b[1;32m    234\u001b[0m                 \u001b[0;31m# shutdown request and wastes cpu at all other times.\u001b[0m\u001b[0;34m\u001b[0m\u001b[0;34m\u001b[0m\u001b[0m\n\u001b[1;32m    235\u001b[0m                 r, w, e = _eintr_retry(select.select, [self], [], [],\n\u001b[0;32m--> 236\u001b[0;31m                                        poll_interval)\n\u001b[0m\u001b[1;32m    237\u001b[0m                 \u001b[0;32mif\u001b[0m \u001b[0mself\u001b[0m \u001b[0;32min\u001b[0m \u001b[0mr\u001b[0m\u001b[0;34m:\u001b[0m\u001b[0;34m\u001b[0m\u001b[0m\n\u001b[1;32m    238\u001b[0m                     \u001b[0mself\u001b[0m\u001b[0;34m.\u001b[0m\u001b[0m_handle_request_noblock\u001b[0m\u001b[0;34m(\u001b[0m\u001b[0;34m)\u001b[0m\u001b[0;34m\u001b[0m\u001b[0m\n",
      "\u001b[0;32m/usr/local/Cellar/python/2.7.9/Frameworks/Python.framework/Versions/2.7/lib/python2.7/SocketServer.pyc\u001b[0m in \u001b[0;36m_eintr_retry\u001b[0;34m(func, *args)\u001b[0m\n\u001b[1;32m    153\u001b[0m     \u001b[0;32mwhile\u001b[0m \u001b[0mTrue\u001b[0m\u001b[0;34m:\u001b[0m\u001b[0;34m\u001b[0m\u001b[0m\n\u001b[1;32m    154\u001b[0m         \u001b[0;32mtry\u001b[0m\u001b[0;34m:\u001b[0m\u001b[0;34m\u001b[0m\u001b[0m\n\u001b[0;32m--> 155\u001b[0;31m             \u001b[0;32mreturn\u001b[0m \u001b[0mfunc\u001b[0m\u001b[0;34m(\u001b[0m\u001b[0;34m*\u001b[0m\u001b[0margs\u001b[0m\u001b[0;34m)\u001b[0m\u001b[0;34m\u001b[0m\u001b[0m\n\u001b[0m\u001b[1;32m    156\u001b[0m         \u001b[0;32mexcept\u001b[0m \u001b[0;34m(\u001b[0m\u001b[0mOSError\u001b[0m\u001b[0;34m,\u001b[0m \u001b[0mselect\u001b[0m\u001b[0;34m.\u001b[0m\u001b[0merror\u001b[0m\u001b[0;34m)\u001b[0m \u001b[0;32mas\u001b[0m \u001b[0me\u001b[0m\u001b[0;34m:\u001b[0m\u001b[0;34m\u001b[0m\u001b[0m\n\u001b[1;32m    157\u001b[0m             \u001b[0;32mif\u001b[0m \u001b[0me\u001b[0m\u001b[0;34m.\u001b[0m\u001b[0margs\u001b[0m\u001b[0;34m[\u001b[0m\u001b[0;36m0\u001b[0m\u001b[0;34m]\u001b[0m \u001b[0;34m!=\u001b[0m \u001b[0merrno\u001b[0m\u001b[0;34m.\u001b[0m\u001b[0mEINTR\u001b[0m\u001b[0;34m:\u001b[0m\u001b[0;34m\u001b[0m\u001b[0m\n",
      "\u001b[0;31mKeyboardInterrupt\u001b[0m: "
     ]
    }
   ],
   "source": [
    "import nengo_viz\n",
    "nengo_viz.Viz('oscillator.py').start()"
   ]
  },
  {
   "cell_type": "markdown",
   "metadata": {
    "slideshow": {
     "slide_type": "notes"
    }
   },
   "source": [
    "I want to finish off by showing one final example,\n",
    "that uses an interactive visualizer that we've been\n",
    "working on lately, and will hopefully be released soon.\n",
    "I hope that it will also prove that\n",
    "Nengo and brain modelling are nothing to be scared of,\n",
    "and won't become the next Skynet.\n",
    "So it's basically just two ensembles,\n",
    "one connected to itself, and one connected to the other.\n",
    "The functions on those connections are complicated,\n",
    "and we have a node that for now doesn't do anything.\n",
    "\n",
    "Here's our interactive environment.\n",
    "We can call up plots of different elements,\n",
    "so let's look *blah*.\n",
    "We can control the output of the node with these sliders.\n",
    "When we start the network (it takes a little while to build)\n",
    "we move he sliders a bit to kick it off...\n",
    "and there we go! A lovely oscillator.\n",
    "\n",
    "If you want to learn more,\n",
    "head to `nengo.ca`.\n",
    "Thank you for listening,\n",
    "and I think I have time for a few questions!"
   ]
  }
 ],
 "metadata": {
  "celltoolbar": "Slideshow",
  "kernelspec": {
   "display_name": "Python 2",
   "language": "python",
   "name": "python2"
  },
  "language_info": {
   "codemirror_mode": {
    "name": "ipython",
    "version": 2
   },
   "file_extension": ".py",
   "mimetype": "text/x-python",
   "name": "python",
   "nbconvert_exporter": "python",
   "pygments_lexer": "ipython2",
   "version": "2.7.9"
  }
 },
 "nbformat": 4,
 "nbformat_minor": 0
}
