{
 "cells": [
  {
   "cell_type": "code",
   "execution_count": null,
   "metadata": {
    "collapsed": false,
    "slideshow": {
     "slide_type": "skip"
    }
   },
   "outputs": [],
   "source": [
    "from __future__ import division, print_function\n",
    "%matplotlib inline\n",
    "import numpy as np\n",
    "import matplotlib.pyplot as plt\n",
    "import nengo\n",
    "from nengo.utils.matplotlib import rasterplot\n",
    "import scipy\n",
    "import scipy.signal\n",
    "from scipy.io.wavfile import read as readwav\n",
    "from IPython.display import Audio"
   ]
  },
  {
   "cell_type": "markdown",
   "metadata": {
    "slideshow": {
     "slide_type": "slide"
    }
   },
   "source": [
    "# How to build a brain\n",
    "# with Python\n",
    "\n",
    "### Trevor Bekolay\n",
    "\n",
    "note: terminator / spuan background?"
   ]
  },
  {
   "cell_type": "markdown",
   "metadata": {
    "slideshow": {
     "slide_type": "notes"
    }
   },
   "source": [
    "My name is Trevor, and I'm a theoretical neuroscientist.\n",
    "That means that I use computers\n",
    "and math to build models of the brain.\n",
    "When someone asks what I do, and I tell them this,\n",
    "I get one of three reactions.\n",
    "The first is very pleasant:\n",
    "we'll share in the mysteries of the brain,\n",
    "\"Why do we need sleep, and why do we dream?\"\n",
    "\"Why am I so terrible at remembering names, but I'm good with numbers?\"\n",
    "\"Why do some people see the dress as white and gold, what's wrong with them?\"\n",
    "The second reaction I often get starts off like the first:\n",
    "\"I watched a movie about this...\"\n",
    "but then ends with\n",
    "\"it's called Terminator. Are you making SkyNet?!\"\n",
    "The third reaction is probably the most common:\n",
    "\"Sorry, what exactly do you do?\"\n",
    "Very fair question.\n",
    "\n",
    "The reality is that I spend most of my days\n",
    "doing what most of you do:\n",
    "programming, in Python as much as possible. \n",
    "Today, I want to share with you\n",
    "how I and other theoretical neuoscientists\n",
    "are using Python to model the brain.\n",
    "And in doing so, I hope to teach you\n",
    "a bit about how your brain works,\n",
    "on a meaningful level."
   ]
  },
  {
   "cell_type": "markdown",
   "metadata": {
    "slideshow": {
     "slide_type": "slide"
    }
   },
   "source": [
    "Feynman chalkboard pic"
   ]
  },
  {
   "cell_type": "markdown",
   "metadata": {
    "slideshow": {
     "slide_type": "notes"
    }
   },
   "source": [
    "First, I want to start on a bit of philosophical note.\n",
    "Why do we want to simulate or build models of the brain?\n",
    "The SkyNet reference here is a fair one;\n",
    "this is one possible eventuality of this kind of research.\n",
    "But the reason most if not all theoretical neuroscientsts\n",
    "want to build a brain is to understand it.\n",
    "We've learned a lot about the brain by\n",
    "dissecting it and probing it,\n",
    "but imagine you were to take apart\n",
    "a laptop or even a radio with no knowledge\n",
    "of electronics and circuits.\n",
    "It would take a long time to figure out how it works,\n",
    "yet we've come up with these incredibly intricate designs\n",
    "starting from first principles of electronics\n",
    "and having a goal;\n",
    "like in the radio,\n",
    "you read EM waves and replicate the sounds encoded in them.\n",
    "There are many ways to design a radio,\n",
    "and I think you can agree that they're all functionally the same.\n",
    "Yet, so far we've been understanding the brain with experiments.\n",
    "Theoretical neuroscientists go the other way;\n",
    "starting from the fundamental biological parts --\n",
    "or at least models of those parts --\n",
    "can we replicate the function of the brain?"
   ]
  },
  {
   "cell_type": "markdown",
   "metadata": {
    "slideshow": {
     "slide_type": "slide"
    }
   },
   "source": [
    "brain basics\n",
    "\n",
    "zoom in, just a bunch of neurons"
   ]
  },
  {
   "cell_type": "markdown",
   "metadata": {
    "slideshow": {
     "slide_type": "notes"
    }
   },
   "source": [
    "Let's first talk about those fundamental biological parts,\n",
    "and in doing so we'll start writing Python code, finally!\n",
    "\n",
    "The human brain is made up of about 85 billion\n",
    "interconnected cells called neurons,\n",
    "and about the same number of support cells\n",
    "called glia. Glia are super interesting,\n",
    "but I will completely ignore them\n",
    "for the remainder of this talk,\n",
    "as neurons appear to be the primary workhorses\n",
    "of the brain; you can stimulate neurons\n",
    "in the motor regions of the brain\n",
    "to cause muscle contractions,\n",
    "stimulate visual areas to consciously\n",
    "see things that aren't there, and so on."
   ]
  },
  {
   "cell_type": "markdown",
   "metadata": {
    "slideshow": {
     "slide_type": "slide"
    }
   },
   "source": [
    "What is a neuron and what does it do?\n",
    "\n",
    "takes in input (from dendrites)\n",
    "\n",
    "produces an output (from axon)\n",
    "\n",
    "`neuron(*dendrites) -> axon`\n",
    "\n",
    "NOTE: Just one output!\n",
    "\n",
    "What is this? A function!"
   ]
  },
  {
   "cell_type": "markdown",
   "metadata": {
    "slideshow": {
     "slide_type": "notes"
    }
   },
   "source": [
    "So what do neurons do.\n",
    "Well, it's complicated,\n",
    "but a useful simplification --\n",
    "for us programmer types anyway --\n",
    "is to think of neurons as computing a function.\n",
    "\n",
    "It receives input from other neurons\n",
    "through its dendrites.\n",
    "It then uses that input to produce\n",
    "some output.\n",
    "And although it is not typically our way as Pythonistas,\n",
    "let's give these things types and units anyway.\n",
    "Our dendritic inputs are currents in amps (typically pico or microamps),\n",
    "and our output is voltage in volts (typically millivolts)."
   ]
  },
  {
   "cell_type": "markdown",
   "metadata": {
    "slideshow": {
     "slide_type": "slide"
    }
   },
   "source": [
    "Action potentials\n",
    "\n",
    "J -> neuron -> spike -> J -> neuron"
   ]
  },
  {
   "cell_type": "markdown",
   "metadata": {
    "slideshow": {
     "slide_type": "notes"
    }
   },
   "source": [
    "This is an example of the output of a neuron.\n",
    "We can measure this in real neurons with electrodes.\n",
    "Most of what's going on here isn't important at all;\n",
    "what's actually important (zoom in)\n",
    "are these spikes of high voltage;\n",
    "their technical name is an action potential,\n",
    "but I'll call them spikes.\n",
    "Output only actually happens\n",
    "when a neuron spikes.\n",
    "When a neuron spikes,\n",
    "releases tiny chemicals,\n",
    "which causes current to flow into\n",
    "the neurons that it is connected to.\n",
    "This is the basic idea:\n",
    "current flows into a neuron,\n",
    "and if enough current flows in,\n",
    "then the neuron spikes,\n",
    "causing current to flow into downstream neurons."
   ]
  },
  {
   "cell_type": "markdown",
   "metadata": {
    "slideshow": {
     "slide_type": "slide"
    }
   },
   "source": [
    "Neurons are weird\n",
    "\n",
    "put in some odd neuron things; probably from Izhikevich\n",
    "\n",
    "One way to spend your life as a theoretical neuroscientist:\n",
    "making neuron types"
   ]
  },
  {
   "cell_type": "markdown",
   "metadata": {
    "slideshow": {
     "slide_type": "notes"
    }
   },
   "source": [
    "So, I told you that a neuron is essentially a function.\n",
    "If you want to be very precise,\n",
    "that function is actually quite complex;\n",
    "but this is where brain building gets its start,\n",
    "is emulating very accurately the activity\n",
    "of one or two neurons.\n",
    "We can call this \"neuron modelling.\""
   ]
  },
  {
   "cell_type": "markdown",
   "metadata": {
    "slideshow": {
     "slide_type": "slide"
    }
   },
   "source": [
    "Introduce NEURON"
   ]
  },
  {
   "cell_type": "markdown",
   "metadata": {
    "slideshow": {
     "slide_type": "notes"
    }
   },
   "source": [
    "One of the first pieces of software\n",
    "to help with making neuron models\n",
    "is called NEURON, which has existed in\n",
    "some form since about 1984.\n",
    "It's writting in a mix of C, C++ and Fortran.\n",
    "Most students when they're exposed to\n",
    "theoretical neuroscience for the first time\n",
    "will use NEURON's GUI,\n",
    "which by this point is showing its age.\n",
    "(Quick demo)\n",
    "\n",
    "But, it is very much still a relevant tool;\n",
    "it is the software that allows the Blue Brain project,\n",
    "for example, to run large networks on\n",
    "the IBM Blue Gene supercomputer.\n",
    "And, since it is mostly C,\n",
    "it's very natural to hook up to Python."
   ]
  },
  {
   "cell_type": "markdown",
   "metadata": {
    "slideshow": {
     "slide_type": "slide"
    }
   },
   "source": [
    "Show PyNeuron example"
   ]
  },
  {
   "cell_type": "markdown",
   "metadata": {
    "slideshow": {
     "slide_type": "notes"
    }
   },
   "source": [
    "*Figure out what kind of example to show*"
   ]
  },
  {
   "cell_type": "markdown",
   "metadata": {
    "slideshow": {
     "slide_type": "slide"
    }
   },
   "source": [
    "Introduce Brian"
   ]
  },
  {
   "cell_type": "markdown",
   "metadata": {
    "slideshow": {
     "slide_type": "notes"
    }
   },
   "source": [
    "Here's a familiar story:\n",
    "there's a C project with Python bindings,\n",
    "which is initially super cool,\n",
    "but quickly is such a tease;\n",
    "it's nice to be able to use it in Python,\n",
    "but it would also be nice\n",
    "if it were all in Python so it was easy to edit.\n",
    "It seems to have happened in all domains,\n",
    "and theoretical neuroscience is no exception.\n",
    "\n",
    "Brian is a neural simulator written entirely in Python."
   ]
  },
  {
   "cell_type": "markdown",
   "metadata": {
    "slideshow": {
     "slide_type": "slide"
    }
   },
   "source": [
    "Show Brian example"
   ]
  },
  {
   "cell_type": "markdown",
   "metadata": {
    "slideshow": {
     "slide_type": "notes"
    }
   },
   "source": [
    "Here, we use Brian to do the exact same model\n",
    "as before, but using Brian.\n",
    "*Something about ease of use, speed?*"
   ]
  },
  {
   "cell_type": "markdown",
   "metadata": {
    "slideshow": {
     "slide_type": "slide"
    }
   },
   "source": [
    "Notable simulators with Python bindings"
   ]
  },
  {
   "cell_type": "markdown",
   "metadata": {
    "slideshow": {
     "slide_type": "notes"
    }
   },
   "source": [
    "I've just shown you two neural simulators,\n",
    "the two that I consider the most notable,\n",
    "but in fact there are several others.\n",
    "There are approximately as many neural simulators\n",
    "as there are labs making these models;\n",
    "as the saying goes,\n",
    "simulators are like toothbrushes:\n",
    "everyone's got one,\n",
    "but no one likes to use someone else's."
   ]
  },
  {
   "cell_type": "markdown",
   "metadata": {
    "slideshow": {
     "slide_type": "slide"
    }
   },
   "source": [
    "1 billion dollar question:\n",
    "if you were to simulate 100 billion of these,\n",
    "would you get a human brain?\n",
    "\n",
    "Every neuron has 10,000 connections.\n",
    "Neurons (functions) are important,\n",
    "but connections (inputs) are more important"
   ]
  },
  {
   "cell_type": "markdown",
   "metadata": {
    "slideshow": {
     "slide_type": "notes"
    }
   },
   "source": [
    "Now, we've simulated a few neurons.\n",
    "If you're like me, you're probably not satisfied.\n",
    "I want to know how the *brain* works,\n",
    "I want to build a *brain*,\n",
    "not simulate a neuron!\n",
    "The brain is just 85 billion neurons.\n",
    "\n",
    "So, let me ask you in the audience.\n",
    "Hands up if you think we can\n",
    "essentially copy the neuron from above\n",
    "85 billion times,\n",
    "and we'll get something that resembles the brain?\n",
    "\n",
    "Very few hands (likely). That's good;\n",
    "every neuron is connected to, on average,\n",
    "10,000 other neurons.\n",
    "That means that, while there are 85 billion neurons,\n",
    "there are on the order of a quadrillion connections between neurons.\n",
    "This seems to be where we should be concentrating out efforts.\n",
    "\n",
    "Okay, back to the audience.\n",
    "Do you think we can build a brain by\n",
    "taking 85 billion neurons,\n",
    "and making a quadrillion random connections,\n",
    "show of hands?\n",
    "How about this:\n",
    "we do some detailed measurements of each neuron,\n",
    "and figure out where the connections are coming from,\n",
    "and how strong they are;\n",
    "then, instead of making a quadrillion totally random connections,\n",
    "we make connections that match the statistics of real brains.\n",
    "How many think we'll get brain-like behavior?\n",
    "Okay, last try.\n",
    "There's a lot of learning happening in the brain,\n",
    "which is physically manifest as changing the strength\n",
    "of the connections between neurons based on their activity.\n",
    "What if we had those statistically matched quadrillion connections,\n",
    "and also learning was happening in a biologically consistent way.\n",
    "How many think we'll get brain-like behavior?"
   ]
  },
  {
   "cell_type": "markdown",
   "metadata": {
    "slideshow": {
     "slide_type": "slide"
    }
   },
   "source": [
    "Another approach: Neural Engineering Framework\n",
    "\n",
    "A theory for how to build a brain"
   ]
  },
  {
   "cell_type": "markdown",
   "metadata": {
    "slideshow": {
     "slide_type": "notes"
    }
   },
   "source": [
    "In the remaining time, let me introduce you to\n",
    "the Neural Engineering Framework,\n",
    "and a Python library called Nengo,\n",
    "which is, in my opinion,\n",
    "a satisfying way to build brain models."
   ]
  },
  {
   "cell_type": "markdown",
   "metadata": {
    "slideshow": {
     "slide_type": "slide"
    }
   },
   "source": [
    "Block diagram"
   ]
  },
  {
   "cell_type": "markdown",
   "metadata": {
    "slideshow": {
     "slide_type": "notes"
    }
   },
   "source": [
    "The basic idea is this:\n",
    "each neuron is not that important,\n",
    "but collectively, a group of neurons\n",
    "(which I will call an \"ensemble\")\n",
    "represents some information,\n",
    "like a number of a list of numbers,\n",
    "and the connection from one group of neurons\n",
    "to another group\n",
    "transforms that information\n",
    "in some way that can be expressed with mathematics.\n",
    "\n",
    "So, say that this ensemble represents\n",
    "a point in two-dimensional space -- so two numbers.\n",
    "Then, we could have this ensemble\n",
    "represent the distance from the origin to that point\n",
    "with the distance formula."
   ]
  },
  {
   "cell_type": "markdown",
   "metadata": {
    "slideshow": {
     "slide_type": "slide"
    }
   },
   "source": [
    "Analogy: Humans talk in base 10\n",
    "\n",
    "Computers talk in base 2\n",
    "\n",
    "Give quick rundown of how to convert"
   ]
  },
  {
   "cell_type": "markdown",
   "metadata": {
    "slideshow": {
     "slide_type": "notes"
    }
   },
   "source": [
    "How does this work? Well, like with neuron modelling,\n",
    "I only have time to scratch the surface,\n",
    "but here's an analogy to give you a sense of what's going on.\n",
    "\n",
    "As programmers, we should be pretty familiar with\n",
    "binary numbers, since that's how computer represent information.\n",
    "\n",
    "Briefly, *explain how to convert decimal to binary*."
   ]
  },
  {
   "cell_type": "markdown",
   "metadata": {
    "slideshow": {
     "slide_type": "slide"
    }
   },
   "source": [
    "Brains talk in base neural activity"
   ]
  },
  {
   "cell_type": "markdown",
   "metadata": {
    "slideshow": {
     "slide_type": "notes"
    }
   },
   "source": [
    "There's a similar analogy between numbers and how\n",
    "we represent information in the NEF.\n",
    "In this case, *explain how to convert decimal to NEF*."
   ]
  },
  {
   "cell_type": "markdown",
   "metadata": {
    "slideshow": {
     "slide_type": "slide"
    }
   },
   "source": [
    "In the NEF, neurons aren't the target:\n",
    "they're just what we use to implement math.\n",
    "\n",
    "Then, if you can describe a system in math (dynamical systems),\n",
    "you can build a brain to implement that math.\n",
    "\n",
    "This is how I spend my life as a theoretical neuroscientist:\n",
    "solving problems with math and then implementing it\n",
    "in the NEF."
   ]
  },
  {
   "cell_type": "markdown",
   "metadata": {
    "slideshow": {
     "slide_type": "notes"
    }
   },
   "source": [
    "Essentially this gives us a way to ignore how weird neurons are.\n",
    "Instead, we come up with the math to solve a problem,\n",
    "and compile that down to a brain model that\n",
    "implements that math using neurons."
   ]
  },
  {
   "cell_type": "markdown",
   "metadata": {
    "slideshow": {
     "slide_type": "slide"
    }
   },
   "source": [
    "Introduce Nengo"
   ]
  },
  {
   "cell_type": "markdown",
   "metadata": {
    "slideshow": {
     "slide_type": "notes"
    }
   },
   "source": [
    "Let's see how this works, using Nengo.\n",
    "*E.g.*"
   ]
  },
  {
   "cell_type": "markdown",
   "metadata": {
    "slideshow": {
     "slide_type": "slide"
    }
   },
   "source": [
    "Show Nengo example (2D eye position tracking)"
   ]
  },
  {
   "cell_type": "markdown",
   "metadata": {
    "slideshow": {
     "slide_type": "notes"
    }
   },
   "source": [
    "*Model*"
   ]
  },
  {
   "cell_type": "markdown",
   "metadata": {
    "slideshow": {
     "slide_type": "slide"
    }
   },
   "source": [
    "Hypotheses from this model\n",
    "\n",
    "Predictions from this model"
   ]
  },
  {
   "cell_type": "markdown",
   "metadata": {
    "slideshow": {
     "slide_type": "notes"
    }
   },
   "source": [
    "*Hypotheses and predictions*"
   ]
  },
  {
   "cell_type": "markdown",
   "metadata": {
    "slideshow": {
     "slide_type": "slide"
    }
   },
   "source": [
    "We've only scratched the surface,\n",
    "but I hope you can get a sense\n",
    "for what we do.\n",
    "We think about:\n",
    "\n",
    "- what information is needed to do something?\n",
    "- how is that information manipulated?"
   ]
  },
  {
   "cell_type": "markdown",
   "metadata": {
    "slideshow": {
     "slide_type": "notes"
    }
   },
   "source": [
    "*More*"
   ]
  },
  {
   "cell_type": "markdown",
   "metadata": {
    "slideshow": {
     "slide_type": "slide"
    }
   },
   "source": [
    "Using just the tools I showed in the Nengo example,\n",
    "and around 8 years of collective work,\n",
    "you can make Spaun"
   ]
  },
  {
   "cell_type": "markdown",
   "metadata": {
    "slideshow": {
     "slide_type": "notes"
    }
   },
   "source": [
    "*More*"
   ]
  },
  {
   "cell_type": "markdown",
   "metadata": {
    "slideshow": {
     "slide_type": "slide"
    }
   },
   "source": [
    "Awesome things I didn't have time for:\n",
    "\n",
    "- learning\n",
    "- neuromorphic hardware\n",
    "- many more"
   ]
  },
  {
   "cell_type": "markdown",
   "metadata": {
    "slideshow": {
     "slide_type": "notes"
    }
   },
   "source": [
    "There's tons of interesting new things happening,\n",
    "but they are unfortunately quite new.\n",
    "The field is young, and somewhat undocumented.\n",
    "We're trying our best with Nengo,\n",
    "but there are so many things that\n",
    "programmers could help with;\n",
    "it just takes a fair bit of work."
   ]
  },
  {
   "cell_type": "markdown",
   "metadata": {
    "slideshow": {
     "slide_type": "slide"
    }
   },
   "source": [
    "Thanks to\n",
    "\n",
    "- Nengo contribs\n",
    "- Others\n",
    "\n",
    "Pointers to learn more\n",
    "\n",
    "- links\n",
    "- to\n",
    "- Python in Neuroscience research topic\n",
    "- NEF / Nengo things, examples"
   ]
  },
  {
   "cell_type": "markdown",
   "metadata": {
    "slideshow": {
     "slide_type": "notes"
    }
   },
   "source": [
    "*More*"
   ]
  }
 ],
 "metadata": {
  "celltoolbar": "Slideshow",
  "kernelspec": {
   "display_name": "Python 2",
   "language": "python",
   "name": "python2"
  },
  "language_info": {
   "codemirror_mode": {
    "name": "ipython",
    "version": 2
   },
   "file_extension": ".py",
   "mimetype": "text/x-python",
   "name": "python",
   "nbconvert_exporter": "python",
   "pygments_lexer": "ipython2",
   "version": "2.7.8"
  }
 },
 "nbformat": 4,
 "nbformat_minor": 0
}
