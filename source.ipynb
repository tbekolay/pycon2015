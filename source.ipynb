{
 "cells": [
  {
   "cell_type": "code",
   "execution_count": null,
   "metadata": {
    "collapsed": false,
    "slideshow": {
     "slide_type": "skip"
    }
   },
   "outputs": [],
   "source": [
    "from __future__ import division, print_function\n",
    "%matplotlib inline\n",
    "import numpy as np\n",
    "import matplotlib.pyplot as plt\n",
    "import nengo\n",
    "from nengo.utils.matplotlib import rasterplot\n",
    "import scipy\n",
    "import scipy.signal\n",
    "from scipy.io.wavfile import read as readwav\n",
    "from IPython.display import Audio"
   ]
  },
  {
   "cell_type": "markdown",
   "metadata": {
    "slideshow": {
     "slide_type": "notes"
    }
   },
   "source": [
    "\n",
    "---\n",
    "\n",
    "To start explaining how the brain works,\n",
    "I want to introduce you to one of the first\n",
    "neural simulators out there, NEURON.\n",
    "\n",
    "*Show the structure of a neuron in the NEURON gui*\n",
    "\n",
    "NEURON was how I was introduced to a lot of\n",
    "the elements of experimental neuroscience,\n",
    "since it does a good job of emulating\n",
    "a real biological neuron.\n",
    "You can do experiments in NEURON\n",
    "that are identical to the\n",
    "first experiments done by Hodgkin and Huxley\n",
    "on the giant squid axon.\n",
    "\n",
    "*Show a code example in Python*\n",
    "\n",
    "---\n",
    "\n",
    "NEURON makes it easy to simulate many types of neurons\n",
    "by defining their morphology in Python scripts.\n",
    "However, for more advanced models --\n",
    "exotic neuron types or complex synapses --\n",
    "you have to write out the math\n",
    "in a pretty lame non-Python language.\n",
    "Brian is another neural simulator\n",
    "that is created entirely in Python,\n",
    "and makes the neuron's function more transparent.\n",
    "\n",
    "*Quick Brian example*\n",
    "\n",
    "---\n",
    "\n",
    "NEURON and Brian aren't the only neural simulators\n",
    "that work in Python; here are X more.\n",
    "These are all impressive tools,\n",
    "but to me they're not very satisfying.\n",
    "I said at the start that we want to build *brain*,\n",
    "but so far all we've done is build *neurons*.\n",
    "\n",
    "Let me do a quick poll of the audience,\n",
    "just a show of hands.\n",
    "Hands up if you think that\n",
    "human-like intelligence will emerge\n",
    "if we create 86 billion neurons\n",
    "like we've done in NEURON or Brian?\n",
    "Makes sense, I haven't even said that these\n",
    "neurons are connected!\n",
    "Okay, hands down.\n",
    "Now, hands up if you think\n",
    "human-like intelligence will emerge\n",
    "if we connect the neurons together\n",
    "according to the statistics of\n",
    "the human brain; so, lots of local\n",
    "connections, and a few far-ranging connections?\n",
    "\n",
    "I agree, it doesn't seem very plausible.\n",
    "In a way, what the neurons do is not that important;\n",
    "how they're connected is.\n",
    "\n",
    "Nengo is a neural simulator that\n",
    "connects groups of neurons together\n",
    "using a theoretical framework called\n",
    "the Neural Engineering Framework,\n",
    "or NEF for short.\n",
    "\n",
    "---\n",
    "\n",
    "We don't have time to go over all of the NEF,\n",
    "I mostly want to show you a Nengo example,\n",
    "but I want to give you some sense of it\n",
    "with two useful analogies.\n",
    "\n",
    "---\n",
    "\n",
    "What is the NEF? A Neural compiler\n",
    "\n",
    "You wouldn't want to write machine code, bit by bit right?\n",
    "Well, that's essentially what you're doing in\n",
    "most neural simulators.\n",
    "\n",
    "---\n",
    "\n",
    "How does the NEF work?\n",
    "\n",
    "3 principles; one is like binary decoding\n",
    "\n",
    "---\n",
    "\n",
    "OK, Nengo.\n",
    "Nengo is like a neural compiler.\n",
    "So what is the high-level language of Nengo?\n",
    "It's essentially vector math.\n",
    "Nengo models are best explained and visualized\n",
    "with what are essentially circuit diagrams.\n",
    "\n",
    "*Go over a network*\n",
    "\n",
    "---\n",
    "\n",
    "Now, let's look at this in Nengo.\n",
    "\n",
    "*Show Nengo code*\n",
    "\n",
    "---\n",
    "\n",
    "The process of building a brain model using Nengo\n",
    "is much like coming up with an equation for anything.\n",
    "You have to think about what information is being represented?\n",
    "Those are your ensembles, or nodes if that information\n",
    "is non-neural.\n",
    "How is that information transformed to implement\n",
    "the system you're creating?\n",
    "\n",
    "---\n",
    "\n",
    "Let's look at this with a full example.\n",
    "\n",
    "There are lot of psychological experiments\n",
    "that involve looking at a screen,\n",
    "and moving your eyes when you see a dot, for example.\n",
    "Let's make a model that does the same.\n",
    "\n",
    "---\n",
    "\n",
    "*Planning*\n",
    "\n",
    "*Execution*\n",
    "\n",
    "---\n",
    "\n",
    "It doesn't seem like much, but what we've now made\n",
    "is a hypothesis that can be tested in a real system.\n",
    "We have a group of spiking neurons\n",
    "whose activity we can interrogate\n",
    "and compare to actual spiking neurons.\n",
    "Gathering evidence about the real system\n",
    "and modifying our model to incorporate that evidence,\n",
    "is how we go about understanding the brain better.\n",
    "\n",
    "---\n",
    "\n",
    "In the remaining X minutes (hopefully leave some time)\n",
    "I want to show you some of the things that we've\n",
    "done with Nengo.\n",
    "\n",
    "---\n",
    "\n",
    "Spaun\n",
    "\n",
    "---\n",
    "\n",
    "Backends (make Spaun faster)\n",
    "\n",
    "---\n",
    "\n",
    "Robots & quadcopters\n",
    "\n",
    "---\n",
    "\n",
    "Thank you! Questions?\n",
    "\n",
    "--------------------------------\n",
    "\n",
    "First, I want to start on a bit of philosophical note.\n",
    "Why do we want to simulate or build models of the brain?\n",
    "The SkyNet reference here is a fair one;\n",
    "this is one possible eventuality of this kind of research.\n",
    "But the reason most if not all theoretical neuroscientsts\n",
    "want to build a brain is to understand it.\n",
    "We've learned a lot about the brain by\n",
    "dissecting it and probing it,\n",
    "but imagine you were to take apart\n",
    "a laptop or even a radio with no knowledge\n",
    "of electronics and circuits.\n",
    "It would take a long time to figure out how it works,\n",
    "yet we've come up with these incredibly intricate designs\n",
    "starting from first principles of electronics\n",
    "and having a goal;\n",
    "like in the radio,\n",
    "you read EM waves and replicate the sounds encoded in them.\n",
    "There are many ways to design a radio,\n",
    "and I think you can agree that they're all functionally the same.\n",
    "Yet, so far we've been understanding the brain with experiments.\n",
    "Theoretical neuroscientists go the other way;\n",
    "starting from the fundamental biological parts --\n",
    "or at least models of those parts --\n",
    "can we replicate the function of the brain?\n",
    "\n",
    "---\n",
    "\n",
    "Let's first talk about those fundamental biological parts,\n",
    "and in doing so we'll start writing Python code, finally!\n",
    "\n",
    "The human brain is made up of about 85 billion\n",
    "interconnected cells called neurons,\n",
    "and about the same number of support cells\n",
    "called glia. Glia are super interesting,\n",
    "but I will completely ignore them\n",
    "for the remainder of this talk,\n",
    "as neurons appear to be the primary workhorses\n",
    "of the brain; you can stimulate neurons\n",
    "in the motor regions of the brain\n",
    "to cause muscle contractions,\n",
    "stimulate visual areas to consciously\n",
    "see things that aren't there, and so on.\n",
    "\n",
    "---\n",
    "\n",
    "So what do neurons do.\n",
    "Well, it's complicated,\n",
    "but a useful simplification --\n",
    "for us programmer types anyway --\n",
    "is to think of neurons as computing a function.\n",
    "\n",
    "It receives input from other neurons\n",
    "through its dendrites.\n",
    "It then uses that input to produce\n",
    "some output.\n",
    "And although it is not typically our way as Pythonistas,\n",
    "let's give these things types and units anyway.\n",
    "Our dendritic inputs are currents in amps (typically pico or microamps),\n",
    "and our output is voltage in volts (typically millivolts).\n",
    "\n",
    "---\n",
    "\n",
    "This is an example of the output of a neuron.\n",
    "We can measure this in real neurons with electrodes.\n",
    "Most of what's going on here isn't important at all;\n",
    "what's actually important (zoom in)\n",
    "are these spikes of high voltage;\n",
    "their technical name is an action potential,\n",
    "but I'll call them spikes.\n",
    "Output only actually happens\n",
    "when a neuron spikes.\n",
    "When a neuron spikes,\n",
    "releases tiny chemicals,\n",
    "which causes current to flow into\n",
    "the neurons that it is connected to.\n",
    "This is the basic idea:\n",
    "current flows into a neuron,\n",
    "and if enough current flows in,\n",
    "then the neuron spikes,\n",
    "causing current to flow into downstream neurons.\n",
    "\n",
    "---\n",
    "\n",
    "So, I told you that a neuron is essentially a function.\n",
    "If you want to be very precise,\n",
    "that function is actually quite complex;\n",
    "but this is where brain building gets its start,\n",
    "is emulating very accurately the activity\n",
    "of one or two neurons.\n",
    "We can call this \"neuron modelling.\"\n",
    "\n",
    "---\n",
    "\n",
    "One of the first pieces of software\n",
    "to help with making neuron models\n",
    "is called NEURON, which has existed in\n",
    "some form since about 1984.\n",
    "It's writting in a mix of C, C++ and Fortran.\n",
    "Most students when they're exposed to\n",
    "theoretical neuroscience for the first time\n",
    "will use NEURON's GUI,\n",
    "which by this point is showing its age.\n",
    "(Quick demo)\n",
    "\n",
    "But, it is very much still a relevant tool;\n",
    "it is the software that allows the Blue Brain project,\n",
    "for example, to run large networks on\n",
    "the IBM Blue Gene supercomputer.\n",
    "And, since it is mostly C,\n",
    "it's very natural to hook up to Python.\n",
    "\n",
    "---\n",
    "\n",
    "*Figure out what kind of example to show*\n",
    "\n",
    "---\n",
    "\n",
    "Here's a familiar story:\n",
    "there's a C project with Python bindings,\n",
    "which is initially super cool,\n",
    "but quickly is such a tease;\n",
    "it's nice to be able to use it in Python,\n",
    "but it would also be nice\n",
    "if it were all in Python so it was easy to edit.\n",
    "It seems to have happened in all domains,\n",
    "and theoretical neuroscience is no exception.\n",
    "\n",
    "Brian is a neural simulator written entirely in Python.\n",
    "\n",
    "---\n",
    "\n",
    "Here, we use Brian to do the exact same model\n",
    "as before, but using Brian.\n",
    "*Something about ease of use, speed?*\n",
    "\n",
    "---\n",
    "\n",
    "I've just shown you two neural simulators,\n",
    "the two that I consider the most notable,\n",
    "but in fact there are several others.\n",
    "There are approximately as many neural simulators\n",
    "as there are labs making these models;\n",
    "as the saying goes,\n",
    "simulators are like toothbrushes:\n",
    "everyone's got one,\n",
    "but no one likes to use someone else's.\n",
    "\n",
    "---\n",
    "\n",
    "Now, we've simulated a few neurons.\n",
    "If you're like me, you're probably not satisfied.\n",
    "I want to know how the *brain* works,\n",
    "I want to build a *brain*,\n",
    "not simulate a neuron!\n",
    "The brain is just 85 billion neurons.\n",
    "\n",
    "So, let me ask you in the audience.\n",
    "Hands up if you think we can\n",
    "essentially copy the neuron from above\n",
    "85 billion times,\n",
    "and we'll get something that resembles the brain?\n",
    "\n",
    "Very few hands (likely). That's good;\n",
    "every neuron is connected to, on average,\n",
    "10,000 other neurons.\n",
    "That means that, while there are 85 billion neurons,\n",
    "there are on the order of a quadrillion connections between neurons.\n",
    "This seems to be where we should be concentrating out efforts.\n",
    "\n",
    "Okay, back to the audience.\n",
    "Do you think we can build a brain by\n",
    "taking 85 billion neurons,\n",
    "and making a quadrillion random connections,\n",
    "show of hands?\n",
    "How about this:\n",
    "we do some detailed measurements of each neuron,\n",
    "and figure out where the connections are coming from,\n",
    "and how strong they are;\n",
    "then, instead of making a quadrillion totally random connections,\n",
    "we make connections that match the statistics of real brains.\n",
    "How many think we'll get brain-like behavior?\n",
    "Okay, last try.\n",
    "There's a lot of learning happening in the brain,\n",
    "which is physically manifest as changing the strength\n",
    "of the connections between neurons based on their activity.\n",
    "What if we had those statistically matched quadrillion connections,\n",
    "and also learning was happening in a biologically consistent way.\n",
    "How many think we'll get brain-like behavior?\n",
    "\n",
    "---\n",
    "\n",
    "In the remaining time, let me introduce you to\n",
    "the Neural Engineering Framework,\n",
    "and a Python library called Nengo,\n",
    "which is, in my opinion,\n",
    "a satisfying way to build brain models.\n",
    "\n",
    "---\n",
    "\n",
    "The basic idea is this:\n",
    "each neuron is not that important,\n",
    "but collectively, a group of neurons\n",
    "(which I will call an \"ensemble\")\n",
    "represents some information,\n",
    "like a number of a list of numbers,\n",
    "and the connection from one group of neurons\n",
    "to another group\n",
    "transforms that information\n",
    "in some way that can be expressed with mathematics.\n",
    "\n",
    "So, say that this ensemble represents\n",
    "a point in two-dimensional space -- so two numbers.\n",
    "Then, we could have this ensemble\n",
    "represent the distance from the origin to that point\n",
    "with the distance formula.\n",
    "\n",
    "---\n",
    "\n",
    "How does this work? Well, like with neuron modelling,\n",
    "I only have time to scratch the surface,\n",
    "but here's an analogy to give you a sense of what's going on.\n",
    "\n",
    "As programmers, we should be pretty familiar with\n",
    "binary numbers, since that's how computer represent information.\n",
    "\n",
    "Briefly, *explain how to convert decimal to binary*."
   ]
  },
  {
   "cell_type": "markdown",
   "metadata": {
    "slideshow": {
     "slide_type": "notes"
    }
   },
   "source": [
    "Definitely\n",
    "\n",
    "\n",
    "Maybe\n",
    "- [ ] Make brain Python logo for title slide"
   ]
  },
  {
   "cell_type": "markdown",
   "metadata": {
    "slideshow": {
     "slide_type": "slide"
    }
   },
   "source": [
    "# How to build a brain\n",
    "# with Python\n",
    "\n",
    "### Trevor Bekolay"
   ]
  },
  {
   "cell_type": "markdown",
   "metadata": {
    "slideshow": {
     "slide_type": "notes"
    }
   },
   "source": [
    "The human brain is an amazing computing device.\n",
    "It weighs about 2 kilograms,\n",
    "is composed of around 86 billion neurons,\n",
    "on the order of a quadrillion connections between neurons,\n",
    "and consumes about 20 watts of power.\n",
    "Yet it's directly responsible for everything\n",
    "humans have accomplished,\n",
    "including creating computers,\n",
    "and Python, which is why we're here today.\n",
    "I'm a theoretical neuroscientist,\n",
    "which means that I build computer\n",
    "simulations of brains.\n",
    "Today, I want to tell you how we use Python\n",
    "to create and run those simulations."
   ]
  },
  {
   "cell_type": "markdown",
   "metadata": {
    "slideshow": {
     "slide_type": "slide"
    }
   },
   "source": [
    "<img src=\"img/feynman.png\" width=\"80%\">"
   ]
  },
  {
   "cell_type": "markdown",
   "metadata": {
    "slideshow": {
     "slide_type": "fragment"
    }
   },
   "source": [
    "<img src=\"img/astroboy.svg\" width=\"30%\">\n",
    "<img src=\"img/hal.svg\" width=\"30%\">\n",
    "<img src=\"img/skynet.svg\" width=\"30%\">"
   ]
  },
  {
   "cell_type": "markdown",
   "metadata": {
    "slideshow": {
     "slide_type": "notes"
    }
   },
   "source": [
    "It's worth first talking about why we want to model the brain.\n",
    "The first is to understand the brain.\n",
    "The late Richard Feynman wrote this\n",
    "shortly before his passing:\n",
    "\"What I cannot create, I do not understand.\"\n",
    "We think that the best way to understand\n",
    "how the brain works is to try to\n",
    "do what the brain does,\n",
    "under the same types of constraints that\n",
    "the brain works under.\n",
    "\n",
    "The second reason is to leverage\n",
    "this understanding to build better\n",
    "artificial intelligences.\n",
    "There are both optimistic and pessimistic\n",
    "examples of AIs in science fiction.\n",
    "I think what worries most people,\n",
    "and what makes things like Hal and Skynet\n",
    "seem plausible,\n",
    "is that these intelligences are not brain-like;\n",
    "they magically emerged from some research project,\n",
    "and they can't be reasoned with.\n",
    "I hope to convince you that this type of\n",
    "emergent superintelligence is not realistic;\n",
    "we have to engineer this intelligence,\n",
    "there's no magic "
   ]
  },
  {
   "cell_type": "markdown",
   "metadata": {
    "slideshow": {
     "slide_type": "slide"
    }
   },
   "source": [
    "brain basics\n",
    "\n",
    "zoom in, just a bunch of neurons"
   ]
  },
  {
   "cell_type": "markdown",
   "metadata": {
    "slideshow": {
     "slide_type": "notes"
    }
   },
   "source": []
  },
  {
   "cell_type": "markdown",
   "metadata": {
    "slideshow": {
     "slide_type": "slide"
    }
   },
   "source": [
    "What is a neuron and what does it do?\n",
    "\n",
    "takes in input (from dendrites)\n",
    "\n",
    "produces an output (from axon)\n",
    "\n",
    "`neuron(*dendrites) -> axon`\n",
    "\n",
    "NOTE: Just one output!\n",
    "\n",
    "What is this? A function!"
   ]
  },
  {
   "cell_type": "markdown",
   "metadata": {
    "slideshow": {
     "slide_type": "notes"
    }
   },
   "source": []
  },
  {
   "cell_type": "markdown",
   "metadata": {
    "slideshow": {
     "slide_type": "slide"
    }
   },
   "source": [
    "Action potentials\n",
    "\n",
    "J -> neuron -> spike -> J -> neuron"
   ]
  },
  {
   "cell_type": "markdown",
   "metadata": {
    "slideshow": {
     "slide_type": "notes"
    }
   },
   "source": []
  },
  {
   "cell_type": "markdown",
   "metadata": {
    "slideshow": {
     "slide_type": "slide"
    }
   },
   "source": [
    "Neurons are weird\n",
    "\n",
    "put in some odd neuron things; probably from Izhikevich\n",
    "\n",
    "One way to spend your life as a theoretical neuroscientist:\n",
    "making neuron types"
   ]
  },
  {
   "cell_type": "markdown",
   "metadata": {
    "slideshow": {
     "slide_type": "notes"
    }
   },
   "source": []
  },
  {
   "cell_type": "markdown",
   "metadata": {
    "slideshow": {
     "slide_type": "slide"
    }
   },
   "source": [
    "Introduce NEURON"
   ]
  },
  {
   "cell_type": "markdown",
   "metadata": {
    "slideshow": {
     "slide_type": "notes"
    }
   },
   "source": []
  },
  {
   "cell_type": "markdown",
   "metadata": {
    "slideshow": {
     "slide_type": "slide"
    }
   },
   "source": [
    "Show PyNeuron example"
   ]
  },
  {
   "cell_type": "markdown",
   "metadata": {
    "slideshow": {
     "slide_type": "notes"
    }
   },
   "source": []
  },
  {
   "cell_type": "markdown",
   "metadata": {
    "slideshow": {
     "slide_type": "slide"
    }
   },
   "source": [
    "Introduce Brian"
   ]
  },
  {
   "cell_type": "markdown",
   "metadata": {
    "slideshow": {
     "slide_type": "notes"
    }
   },
   "source": []
  },
  {
   "cell_type": "markdown",
   "metadata": {
    "slideshow": {
     "slide_type": "slide"
    }
   },
   "source": [
    "Show Brian example"
   ]
  },
  {
   "cell_type": "markdown",
   "metadata": {
    "slideshow": {
     "slide_type": "notes"
    }
   },
   "source": []
  },
  {
   "cell_type": "markdown",
   "metadata": {
    "slideshow": {
     "slide_type": "slide"
    }
   },
   "source": [
    "Notable simulators with Python bindings"
   ]
  },
  {
   "cell_type": "markdown",
   "metadata": {
    "slideshow": {
     "slide_type": "notes"
    }
   },
   "source": []
  },
  {
   "cell_type": "markdown",
   "metadata": {
    "slideshow": {
     "slide_type": "slide"
    }
   },
   "source": [
    "1 billion dollar question:\n",
    "if you were to simulate 100 billion of these,\n",
    "would you get a human brain?\n",
    "\n",
    "Every neuron has 10,000 connections.\n",
    "Neurons (functions) are important,\n",
    "but connections (inputs) are more important"
   ]
  },
  {
   "cell_type": "markdown",
   "metadata": {
    "slideshow": {
     "slide_type": "notes"
    }
   },
   "source": []
  },
  {
   "cell_type": "markdown",
   "metadata": {
    "slideshow": {
     "slide_type": "slide"
    }
   },
   "source": [
    "Another approach: Neural Engineering Framework\n",
    "\n",
    "A theory for how to build a brain"
   ]
  },
  {
   "cell_type": "markdown",
   "metadata": {
    "slideshow": {
     "slide_type": "notes"
    }
   },
   "source": []
  },
  {
   "cell_type": "markdown",
   "metadata": {
    "slideshow": {
     "slide_type": "slide"
    }
   },
   "source": [
    "Block diagram"
   ]
  },
  {
   "cell_type": "markdown",
   "metadata": {
    "slideshow": {
     "slide_type": "notes"
    }
   },
   "source": []
  },
  {
   "cell_type": "markdown",
   "metadata": {
    "slideshow": {
     "slide_type": "slide"
    }
   },
   "source": [
    "Analogy: Humans talk in base 10\n",
    "\n",
    "Computers talk in base 2\n",
    "\n",
    "Give quick rundown of how to convert"
   ]
  },
  {
   "cell_type": "markdown",
   "metadata": {
    "slideshow": {
     "slide_type": "notes"
    }
   },
   "source": []
  },
  {
   "cell_type": "markdown",
   "metadata": {
    "slideshow": {
     "slide_type": "slide"
    }
   },
   "source": [
    "Brains talk in base neural activity"
   ]
  },
  {
   "cell_type": "markdown",
   "metadata": {
    "slideshow": {
     "slide_type": "notes"
    }
   },
   "source": [
    "There's a similar analogy between numbers and how\n",
    "we represent information in the NEF.\n",
    "In this case, *explain how to convert decimal to NEF*."
   ]
  },
  {
   "cell_type": "markdown",
   "metadata": {
    "slideshow": {
     "slide_type": "slide"
    }
   },
   "source": [
    "In the NEF, neurons aren't the target:\n",
    "they're just what we use to implement math.\n",
    "\n",
    "Then, if you can describe a system in math (dynamical systems),\n",
    "you can build a brain to implement that math.\n",
    "\n",
    "This is how I spend my life as a theoretical neuroscientist:\n",
    "solving problems with math and then implementing it\n",
    "in the NEF."
   ]
  },
  {
   "cell_type": "markdown",
   "metadata": {
    "slideshow": {
     "slide_type": "notes"
    }
   },
   "source": [
    "Essentially this gives us a way to ignore how weird neurons are.\n",
    "Instead, we come up with the math to solve a problem,\n",
    "and compile that down to a brain model that\n",
    "implements that math using neurons."
   ]
  },
  {
   "cell_type": "markdown",
   "metadata": {
    "slideshow": {
     "slide_type": "slide"
    }
   },
   "source": [
    "Introduce Nengo"
   ]
  },
  {
   "cell_type": "markdown",
   "metadata": {
    "slideshow": {
     "slide_type": "notes"
    }
   },
   "source": [
    "Let's see how this works, using Nengo.\n",
    "*E.g.*"
   ]
  },
  {
   "cell_type": "markdown",
   "metadata": {
    "slideshow": {
     "slide_type": "slide"
    }
   },
   "source": [
    "Show Nengo example (2D eye position tracking)"
   ]
  },
  {
   "cell_type": "markdown",
   "metadata": {
    "slideshow": {
     "slide_type": "notes"
    }
   },
   "source": [
    "*Model*"
   ]
  },
  {
   "cell_type": "markdown",
   "metadata": {
    "slideshow": {
     "slide_type": "slide"
    }
   },
   "source": [
    "Hypotheses from this model\n",
    "\n",
    "Predictions from this model"
   ]
  },
  {
   "cell_type": "markdown",
   "metadata": {
    "slideshow": {
     "slide_type": "notes"
    }
   },
   "source": [
    "*Hypotheses and predictions*"
   ]
  },
  {
   "cell_type": "markdown",
   "metadata": {
    "slideshow": {
     "slide_type": "slide"
    }
   },
   "source": [
    "We've only scratched the surface,\n",
    "but I hope you can get a sense\n",
    "for what we do.\n",
    "We think about:\n",
    "\n",
    "- what information is needed to do something?\n",
    "- how is that information manipulated?"
   ]
  },
  {
   "cell_type": "markdown",
   "metadata": {
    "slideshow": {
     "slide_type": "notes"
    }
   },
   "source": [
    "*More*"
   ]
  },
  {
   "cell_type": "markdown",
   "metadata": {
    "slideshow": {
     "slide_type": "slide"
    }
   },
   "source": [
    "Using just the tools I showed in the Nengo example,\n",
    "and around 8 years of collective work,\n",
    "you can make Spaun"
   ]
  },
  {
   "cell_type": "markdown",
   "metadata": {
    "slideshow": {
     "slide_type": "notes"
    }
   },
   "source": [
    "*More*"
   ]
  },
  {
   "cell_type": "markdown",
   "metadata": {
    "slideshow": {
     "slide_type": "slide"
    }
   },
   "source": [
    "Awesome things I didn't have time for:\n",
    "\n",
    "- learning\n",
    "- neuromorphic hardware\n",
    "- many more"
   ]
  },
  {
   "cell_type": "markdown",
   "metadata": {
    "slideshow": {
     "slide_type": "notes"
    }
   },
   "source": [
    "There's tons of interesting new things happening,\n",
    "but they are unfortunately quite new.\n",
    "The field is young, and somewhat undocumented.\n",
    "We're trying our best with Nengo,\n",
    "but there are so many things that\n",
    "programmers could help with;\n",
    "it just takes a fair bit of work."
   ]
  },
  {
   "cell_type": "markdown",
   "metadata": {
    "slideshow": {
     "slide_type": "slide"
    }
   },
   "source": [
    "Thanks to\n",
    "\n",
    "- Nengo contribs\n",
    "- Others\n",
    "\n",
    "Pointers to learn more\n",
    "\n",
    "- links\n",
    "- to\n",
    "- Python in Neuroscience research topic\n",
    "- NEF / Nengo things, examples"
   ]
  },
  {
   "cell_type": "markdown",
   "metadata": {
    "slideshow": {
     "slide_type": "notes"
    }
   },
   "source": [
    "*More*"
   ]
  }
 ],
 "metadata": {
  "celltoolbar": "Slideshow",
  "kernelspec": {
   "display_name": "Python 2",
   "language": "python",
   "name": "python2"
  },
  "language_info": {
   "codemirror_mode": {
    "name": "ipython",
    "version": 2
   },
   "file_extension": ".py",
   "mimetype": "text/x-python",
   "name": "python",
   "nbconvert_exporter": "python",
   "pygments_lexer": "ipython2",
   "version": "2.7.9"
  }
 },
 "nbformat": 4,
 "nbformat_minor": 0
}
